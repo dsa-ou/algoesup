{
 "cells": [
  {
   "cell_type": "markdown",
   "id": "12989030",
   "metadata": {},
   "source": [
    "# Test notebook for algoesup.magics\n",
    "\n",
    "## Tests without Python errors\n",
    "Doing `run all` will run all these examples."
   ]
  },
  {
   "cell_type": "code",
   "execution_count": 1,
   "id": "42c2c7c5",
   "metadata": {},
   "outputs": [
    {
     "name": "stdout",
     "output_type": "stream",
     "text": [
      "ruff was activated\n",
      "allowed was activated\n"
     ]
    }
   ],
   "source": [
    "%load_ext algoesup.magics\n",
    "# use the M269 25J configuration\n",
    "%ruff on --extend-ignore E711\n",
    "%allowed on -c m269-25j"
   ]
  },
  {
   "cell_type": "code",
   "execution_count": 2,
   "id": "6086fa35",
   "metadata": {},
   "outputs": [
    {
     "data": {
      "text/markdown": [
       "**ruff** found issues:\n",
       "\n",
       "- 1: \\[[ANN201](https://docs.astral.sh/ruff/rules/missing-return-type-undocumented-public-function)\\] Missing return type annotation for public function `f`. Suggested fix: Add return type annotation: `None`\n",
       "- 1: \\[[D103](https://docs.astral.sh/ruff/rules/undocumented-public-function)\\] Missing docstring in public function\n",
       "- 1: \\[[ANN001](https://docs.astral.sh/ruff/rules/missing-type-function-argument)\\] Missing type annotation for function argument `x`\n",
       "- 5: \\[[F541](https://docs.astral.sh/ruff/rules/f-string-missing-placeholders)\\] f-string without any placeholders. Suggested fix: Remove extraneous `f` prefix"
      ]
     },
     "metadata": {},
     "output_type": "display_data"
    },
    {
     "data": {
      "text/markdown": [
       "**allowed** found issues:\n",
       "\n",
       "- 5: f-string"
      ]
     },
     "metadata": {},
     "output_type": "display_data"
    }
   ],
   "source": [
    "def f(x):\n",
    "    if x != None:\n",
    "        x.split()\n",
    "\n",
    "f(f'hello world')"
   ]
  },
  {
   "cell_type": "code",
   "execution_count": 3,
   "id": "c5e9711b",
   "metadata": {},
   "outputs": [
    {
     "name": "stdout",
     "output_type": "stream",
     "text": [
      "allowed was activated\n"
     ]
    }
   ],
   "source": [
    "# turn method checks on\n",
    "%allowed on -c m269-25j -m"
   ]
  },
  {
   "cell_type": "code",
   "execution_count": 4,
   "id": "7d54f660",
   "metadata": {},
   "outputs": [
    {
     "data": {
      "text/markdown": [
       "**ruff** found issues:\n",
       "\n",
       "- 1: \\[[ANN201](https://docs.astral.sh/ruff/rules/missing-return-type-undocumented-public-function)\\] Missing return type annotation for public function `f`. Suggested fix: Add return type annotation: `None`\n",
       "- 1: \\[[D103](https://docs.astral.sh/ruff/rules/undocumented-public-function)\\] Missing docstring in public function\n",
       "- 1: \\[[ANN001](https://docs.astral.sh/ruff/rules/missing-type-function-argument)\\] Missing type annotation for function argument `x`\n",
       "- 5: \\[[F541](https://docs.astral.sh/ruff/rules/f-string-missing-placeholders)\\] f-string without any placeholders. Suggested fix: Remove extraneous `f` prefix"
      ]
     },
     "metadata": {},
     "output_type": "display_data"
    },
    {
     "data": {
      "text/markdown": [
       "**allowed** found issues:\n",
       "\n",
       "- 3: str.split()\n",
       "- 5: f-string"
      ]
     },
     "metadata": {},
     "output_type": "display_data"
    }
   ],
   "source": [
    "def f(x):\n",
    "    if x != None:\n",
    "        x.split()\n",
    "\n",
    "f(f'hello world')"
   ]
  },
  {
   "cell_type": "markdown",
   "id": "cf58e16d",
   "metadata": {},
   "source": [
    "## Tests with Python errors\n",
    "Run the following cells one by one, as 'run all cells' stops at the next one."
   ]
  },
  {
   "cell_type": "code",
   "execution_count": 5,
   "id": "817faf84",
   "metadata": {},
   "outputs": [
    {
     "ename": "IndentationError",
     "evalue": "expected an indented block after 'if' statement on line 3 (3237396694.py, line 4)",
     "output_type": "error",
     "traceback": [
      "\u001b[0;36m  Cell \u001b[0;32mIn[5], line 4\u001b[0;36m\u001b[0m\n\u001b[0;31m    x.split()\u001b[0m\n\u001b[0m    ^\u001b[0m\n\u001b[0;31mIndentationError\u001b[0m\u001b[0;31m:\u001b[0m expected an indented block after 'if' statement on line 3\n"
     ]
    }
   ],
   "source": [
    "# any syntax error 'overshadows' Ruff or allowed issues\n",
    "def f(x):\n",
    "    if x != None:\n",
    "    x.split()\n",
    "\n",
    "f(f'hello world')"
   ]
  },
  {
   "cell_type": "code",
   "execution_count": 6,
   "id": "4c392552",
   "metadata": {},
   "outputs": [
    {
     "ename": "TypeError",
     "evalue": "unhashable type: 'list'",
     "output_type": "error",
     "traceback": [
      "\u001b[0;31m---------------------------------------------------------------------------\u001b[0m",
      "\u001b[0;31mTypeError\u001b[0m                                 Traceback (most recent call last)",
      "Cell \u001b[0;32mIn[6], line 6\u001b[0m\n\u001b[1;32m      3\u001b[0m     \u001b[38;5;28;01mif\u001b[39;00m x \u001b[38;5;241m!=\u001b[39m \u001b[38;5;28;01mNone\u001b[39;00m:\n\u001b[1;32m      4\u001b[0m         x\u001b[38;5;241m.\u001b[39msplit()\n\u001b[0;32m----> 6\u001b[0m f(\u001b[38;5;124mf\u001b[39m\u001b[38;5;124m'\u001b[39m\u001b[38;5;124mInvalid dict:\u001b[39m\u001b[38;5;124m'\u001b[39m, {[\u001b[38;5;241m1\u001b[39m]: \u001b[38;5;241m1\u001b[39m})\n",
      "\u001b[0;31mTypeError\u001b[0m: unhashable type: 'list'"
     ]
    },
    {
     "data": {
      "text/markdown": [
       "**ruff** found issues:\n",
       "\n",
       "- 2: \\[[ANN201](https://docs.astral.sh/ruff/rules/missing-return-type-undocumented-public-function)\\] Missing return type annotation for public function `f`. Suggested fix: Add return type annotation: `None`\n",
       "- 2: \\[[D103](https://docs.astral.sh/ruff/rules/undocumented-public-function)\\] Missing docstring in public function\n",
       "- 2: \\[[ANN001](https://docs.astral.sh/ruff/rules/missing-type-function-argument)\\] Missing type annotation for function argument `x`\n",
       "- 6: \\[[F541](https://docs.astral.sh/ruff/rules/f-string-missing-placeholders)\\] f-string without any placeholders. Suggested fix: Remove extraneous `f` prefix"
      ]
     },
     "metadata": {},
     "output_type": "display_data"
    },
    {
     "data": {
      "text/markdown": [
       "**allowed** warnings:\n",
       "\n",
       "- method calls will not be checked"
      ]
     },
     "metadata": {},
     "output_type": "display_data"
    },
    {
     "data": {
      "text/markdown": [
       "**allowed** found issues:\n",
       "\n",
       "- 6: f-string"
      ]
     },
     "metadata": {},
     "output_type": "display_data"
    }
   ],
   "source": [
    "# method calls aren't checked when pytype can't parse the code\n",
    "def f(x):\n",
    "    if x != None:\n",
    "        x.split()\n",
    "\n",
    "f(f'Invalid dict:', {[1]: 1})"
   ]
  }
 ],
 "metadata": {
  "kernelspec": {
   "display_name": "Python 3",
   "language": "python",
   "name": "python3"
  },
  "language_info": {
   "codemirror_mode": {
    "name": "ipython",
    "version": 3
   },
   "file_extension": ".py",
   "mimetype": "text/x-python",
   "name": "python",
   "nbconvert_exporter": "python",
   "pygments_lexer": "ipython3",
   "version": "3.10.11"
  }
 },
 "nbformat": 4,
 "nbformat_minor": 5
}
