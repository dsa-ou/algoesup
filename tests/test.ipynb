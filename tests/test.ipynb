{
 "cells": [
  {
   "cell_type": "markdown",
   "id": "12989030",
   "metadata": {},
   "source": [
    "# Test notebook for algoesup.magics\n",
    "\n",
    "## Tests for Ruff"
   ]
  },
  {
   "cell_type": "code",
   "execution_count": 1,
   "id": "42c2c7c5",
   "metadata": {},
   "outputs": [
    {
     "name": "stdout",
     "output_type": "stream",
     "text": [
      "ruff was activated\n"
     ]
    }
   ],
   "source": [
    "%load_ext algoesup.magics\n",
    "%ruff on"
   ]
  },
  {
   "cell_type": "markdown",
   "id": "88f5ea08",
   "metadata": {},
   "source": [
    "Syntax errors reported by Ruff are not shown."
   ]
  },
  {
   "cell_type": "code",
   "execution_count": 2,
   "id": "6086fa35",
   "metadata": {},
   "outputs": [
    {
     "data": {
      "text/markdown": [
       "**ruff** found issues:\n",
       "\n",
       "- 1: \\[[ANN201](https://docs.astral.sh/ruff/rules/missing-return-type-undocumented-public-function)\\] Missing return type annotation for public function `f`. Suggested fix: Add return type annotation: `None`\n",
       "- 1: \\[[D103](https://docs.astral.sh/ruff/rules/undocumented-public-function)\\] Missing docstring in public function"
      ]
     },
     "metadata": {},
     "output_type": "display_data"
    }
   ],
   "source": [
    "def f():\n",
    "    pass"
   ]
  },
  {
   "cell_type": "code",
   "execution_count": 3,
   "id": "c5e9711b",
   "metadata": {},
   "outputs": [
    {
     "ename": "IndentationError",
     "evalue": "expected an indented block after function definition on line 1 (1785360395.py, line 2)",
     "output_type": "error",
     "traceback": [
      "\u001b[0;36m  Cell \u001b[0;32mIn[3], line 2\u001b[0;36m\u001b[0m\n\u001b[0;31m    pass\u001b[0m\n\u001b[0m    ^\u001b[0m\n\u001b[0;31mIndentationError\u001b[0m\u001b[0;31m:\u001b[0m expected an indented block after function definition on line 1\n"
     ]
    }
   ],
   "source": [
    "def f():\n",
    "pass"
   ]
  },
  {
   "cell_type": "markdown",
   "id": "cf58e16d",
   "metadata": {},
   "source": [
    "## Tests for allowed"
   ]
  },
  {
   "cell_type": "code",
   "execution_count": 4,
   "id": "4127e105",
   "metadata": {},
   "outputs": [
    {
     "name": "stdout",
     "output_type": "stream",
     "text": [
      "The algoesup.magics extension is already loaded. To reload it, use:\n",
      "  %reload_ext algoesup.magics\n",
      "allowed was activated\n"
     ]
    }
   ],
   "source": [
    "%load_ext algoesup.magics\n",
    "%allowed on -c m269-25j -f"
   ]
  },
  {
   "cell_type": "markdown",
   "id": "5aa0e26e",
   "metadata": {},
   "source": [
    "The generic warnings about `-f` (there may be other occurrences) and\n",
    "missing `-m` (method calls won't be checked) are not reported."
   ]
  },
  {
   "cell_type": "code",
   "execution_count": 5,
   "id": "817faf84",
   "metadata": {},
   "outputs": [
    {
     "ename": "SyntaxError",
     "evalue": "invalid syntax (492946724.py, line 1)",
     "output_type": "error",
     "traceback": [
      "\u001b[0;36m  Cell \u001b[0;32mIn[5], line 1\u001b[0;36m\u001b[0m\n\u001b[0;31m    x = 2 2\u001b[0m\n\u001b[0m          ^\u001b[0m\n\u001b[0;31mSyntaxError\u001b[0m\u001b[0;31m:\u001b[0m invalid syntax\n"
     ]
    }
   ],
   "source": [
    "x = 2 2\n",
    "if x is None:\n",
    "    pass"
   ]
  },
  {
   "cell_type": "markdown",
   "id": "fd86cc28",
   "metadata": {},
   "source": [
    "The syntax error prevents allowed from reporting anything."
   ]
  },
  {
   "cell_type": "code",
   "execution_count": 7,
   "id": "88c21b20",
   "metadata": {},
   "outputs": [
    {
     "ename": "TypeError",
     "evalue": "unhashable type: 'list'",
     "output_type": "error",
     "traceback": [
      "\u001b[0;31m---------------------------------------------------------------------------\u001b[0m",
      "\u001b[0;31mTypeError\u001b[0m                                 Traceback (most recent call last)",
      "Cell \u001b[0;32mIn[7], line 1\u001b[0m\n\u001b[0;32m----> 1\u001b[0m x \u001b[38;5;241m=\u001b[39m {[\u001b[38;5;241m1\u001b[39m]: \u001b[38;5;241m1\u001b[39m}\n\u001b[1;32m      2\u001b[0m x \u001b[38;5;241m=\u001b[39m \u001b[38;5;124m'\u001b[39m\u001b[38;5;124m'\u001b[39m\n\u001b[1;32m      3\u001b[0m \u001b[38;5;28;01mif\u001b[39;00m x \u001b[38;5;129;01mis\u001b[39;00m \u001b[38;5;28;01mNone\u001b[39;00m:\n",
      "\u001b[0;31mTypeError\u001b[0m: unhashable type: 'list'"
     ]
    },
    {
     "data": {
      "text/markdown": [
       "**allowed** found issues:\n",
       "\n",
       "- 3: is"
      ]
     },
     "metadata": {},
     "output_type": "display_data"
    }
   ],
   "source": [
    "x = {[1]: 1}\n",
    "x = ''\n",
    "if x is None:\n",
    "    pass\n",
    "else:\n",
    "    x.count('l')"
   ]
  },
  {
   "cell_type": "markdown",
   "id": "72efe617",
   "metadata": {},
   "source": [
    "Allowed reports errors in the presence of type errors."
   ]
  },
  {
   "cell_type": "code",
   "execution_count": 8,
   "id": "ea561c7b",
   "metadata": {},
   "outputs": [
    {
     "name": "stdout",
     "output_type": "stream",
     "text": [
      "allowed was activated\n"
     ]
    }
   ],
   "source": [
    "%allowed on -c m269-25j -m"
   ]
  },
  {
   "cell_type": "code",
   "execution_count": 9,
   "id": "fe2f97c0",
   "metadata": {},
   "outputs": [
    {
     "data": {
      "text/markdown": [
       "**allowed** found issues:\n",
       "\n",
       "- 2: is\n",
       "- 5: str.count()"
      ]
     },
     "metadata": {},
     "output_type": "display_data"
    }
   ],
   "source": [
    "x = ''\n",
    "if x is None:\n",
    "    pass\n",
    "else:\n",
    "    x.count('l')"
   ]
  },
  {
   "cell_type": "code",
   "execution_count": 10,
   "id": "44e0ce1d",
   "metadata": {},
   "outputs": [
    {
     "ename": "TypeError",
     "evalue": "unhashable type: 'list'",
     "output_type": "error",
     "traceback": [
      "\u001b[0;31m---------------------------------------------------------------------------\u001b[0m",
      "\u001b[0;31mTypeError\u001b[0m                                 Traceback (most recent call last)",
      "Cell \u001b[0;32mIn[10], line 2\u001b[0m\n\u001b[1;32m      1\u001b[0m \u001b[38;5;66;03m# pytype can't parse this code, so no method call checks\u001b[39;00m\n\u001b[0;32m----> 2\u001b[0m x \u001b[38;5;241m=\u001b[39m {[\u001b[38;5;241m1\u001b[39m]: \u001b[38;5;241m1\u001b[39m}\n\u001b[1;32m      3\u001b[0m x \u001b[38;5;241m=\u001b[39m \u001b[38;5;124m'\u001b[39m\u001b[38;5;124m'\u001b[39m\n\u001b[1;32m      4\u001b[0m \u001b[38;5;28;01mif\u001b[39;00m x \u001b[38;5;129;01mis\u001b[39;00m \u001b[38;5;28;01mNone\u001b[39;00m:\n",
      "\u001b[0;31mTypeError\u001b[0m: unhashable type: 'list'"
     ]
    },
    {
     "data": {
      "text/markdown": [
       "**allowed** warnings:\n",
       "\n",
       "- method calls will not be checked"
      ]
     },
     "metadata": {},
     "output_type": "display_data"
    },
    {
     "data": {
      "text/markdown": [
       "**allowed** found issues:\n",
       "\n",
       "- 4: is"
      ]
     },
     "metadata": {},
     "output_type": "display_data"
    }
   ],
   "source": [
    "# pytype can't parse this code, so no method call checks\n",
    "x = {[1]: 1}\n",
    "x = ''\n",
    "if x is None:\n",
    "    pass\n",
    "else:\n",
    "    x.count('l')"
   ]
  }
 ],
 "metadata": {
  "kernelspec": {
   "display_name": "algoesup-Ho0hiGeC-py3.10",
   "language": "python",
   "name": "python3"
  },
  "language_info": {
   "codemirror_mode": {
    "name": "ipython",
    "version": 3
   },
   "file_extension": ".py",
   "mimetype": "text/x-python",
   "name": "python",
   "nbconvert_exporter": "python",
   "pygments_lexer": "ipython3",
   "version": "3.10.11"
  }
 },
 "nbformat": 4,
 "nbformat_minor": 5
}
