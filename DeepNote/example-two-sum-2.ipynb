{
 "cells": [
  {
   "attachments": {},
   "cell_type": "markdown",
   "metadata": {},
   "source": [
    "# Two Sum (two solutions)\n",
    "\n",
    "*Michael Snowden*, 21 January 2024"
   ]
  },
  {
   "attachments": {},
   "cell_type": "markdown",
   "metadata": {
    "cell_id": "3dab5b7cbe1443acb7ae1b3c9a849b96",
    "deepnote_cell_type": "markdown"
   },
   "source": [
    "This essay aims to solve the classic [Two\n",
    "Sum](https://leetcode.com/problems/two-sum/) problem from [LeetCode](https://leetcode.com/). \n",
    "\n",
    "Readers should have an intermediate understanding of Python and familiarity\n",
    "with Big-Oh notation to understand this essay."
   ]
  },
  {
   "attachments": {},
   "cell_type": "markdown",
   "metadata": {
    "cell_id": "669a241a038a4ea9acd6d114edf21192",
    "deepnote_cell_type": "markdown"
   },
   "source": [
    "## 1 Problem\n",
    "\n",
    "Given an array of integers `nums` and an integer `target`, return indices of\n",
    "the two numbers such that they add up to `target`.\n",
    "\n",
    " - $-109 \\leq$ `nums[i]` $\\leq 109$\n",
    " - $-109 \\leq$ `target` $\\leq 109$\n",
    " - Only one valid answer exists."
   ]
  },
  {
   "attachments": {},
   "cell_type": "markdown",
   "metadata": {
    "cell_id": "7770c0f5f8874b8cb75275c9de3a8424",
    "deepnote_cell_type": "markdown"
   },
   "source": [
    "## 2 Algorithms\n",
    "\n",
    "With our problem defined, the next step is to think of ways to solve it. This section\n",
    "presents two approaches to solving Two Sum: brute force, and mapping."
   ]
  },
  {
   "attachments": {},
   "cell_type": "markdown",
   "metadata": {
    "cell_id": "873b3fad44264c8f9d89f71953220701",
    "deepnote_cell_type": "markdown"
   },
   "source": [
    "\n",
    "### 2.1 Brute force\n",
    "\n",
    "A brute force algorithm tries all possibilities, and selects the correct one.\n",
    "For example, we can sum every number in `nums` with every other number and see\n",
    "if our sum matches the `target`. If it does, then we have found our solution.\n",
    "\n",
    ">**Brute force algorithm**: An outer loop iterates through each number in\n",
    ">`nums`, then for each number, an inner loop iterates `nums` again. For each\n",
    ">pair of numbers, if their indices are different and their sum matches `target`,\n",
    ">return their indices.\n",
    "\n",
    "Let _n_ = `len(nums)`, then this algorithm has two nested for loops that do _n_\n",
    "iterations each. The operations performed within the inner loop are constant\n",
    "time, meaning this solution will do at most _n_ $\\times$ _n_ $\\times$ O(1)\n",
    "steps. Thus, the worst-case time complexity is O(_n_ $^2$). In the best case,\n",
    "the first and second numbers in `nums` sum to `target`. No matter the size of\n",
    "`nums`, the run-times would not increase. Therefore, the best-case time\n",
    "complexity would be O(1).\n"
   ]
  },
  {
   "attachments": {},
   "cell_type": "markdown",
   "metadata": {
    "cell_id": "602d836888cf43e1abc9e17837086972",
    "deepnote_cell_type": "markdown"
   },
   "source": [
    "### 2.2 Mapping\n",
    "\n",
    "In the Brute force algorithm, we checked each pair of numbers in `nums` to see\n",
    "if the resulting sum was equal to `target`. Since we are already checking every\n",
    "number in the list, why not store some piece information from each number that\n",
    "will help us find our matching pair?\n",
    "\n",
    "For every number in `nums`, we can map the difference between it and the target\n",
    "(`target` - number) to its corresponding index using a hashtable. This allows\n",
    "us to check the hashmap for matching numbers in constant time.\n",
    "\n",
    ">**Mapping algorithm**: For each number in `nums`, if its in the hashmap, return\n",
    ">its index and the index mapped to it. Otherwise, calculate the difference\n",
    ">(`target` - number) and map it to the corresponding index of number.\n",
    "\n",
    "Let _n_ = `len(nums)`, then this algorithm has a single loop that does _n_\n",
    "iterations. Because we are using a hashmap, all the operations performed in the\n",
    "loop are done in constant time. Thus, our mapping algorithm has O(_n_) time\n",
    "complexity in in the worst-case. Similar to the brute force approach, if the\n",
    "correctly summing numbers are in the first two positions of `nums`, then the\n",
    "run-times will be unaffected by increasing input sizes, giving a best-case\n",
    "complexity of O(1)."
   ]
  },
  {
   "attachments": {},
   "cell_type": "markdown",
   "metadata": {
    "cell_id": "b874355374024f0aac10bf85290e3830",
    "deepnote_cell_type": "markdown"
   },
   "source": [
    "## 3 Code\n",
    "\n",
    "In this section we will implement and test the algorithms"
   ]
  },
  {
   "cell_type": "code",
   "execution_count": 1,
   "metadata": {
    "cell_id": "aaadf1a848f74353838a9173da3520ab",
    "deepnote_cell_type": "code",
    "deepnote_to_be_reexecuted": false,
    "execution_millis": 572,
    "execution_start": 1700998213233,
    "source_hash": null
   },
   "outputs": [
    {
     "name": "stdout",
     "output_type": "stream",
     "text": [
      "pytype was activated\n",
      "ruff was activated\n",
      "allowed was activated\n"
     ]
    }
   ],
   "source": [
    "from algoesup import test, time_functions, time_cases\n",
    "\n",
    "%pytype on\n",
    "%ruff on\n",
    "%allowed on"
   ]
  },
  {
   "attachments": {},
   "cell_type": "markdown",
   "metadata": {
    "cell_id": "3d5d24a861574074ae34951e9a0ecef1",
    "deepnote_cell_type": "markdown"
   },
   "source": [
    "### 3.1 Testing\n",
    "\n",
    "We now start thinking about writing some unit tests for our solutions.\n",
    "\n",
    "To thoroughly test these solutions, we need to consider edge cases alongside\n",
    "other important functional tests. For the Two Sum problem, we should test the\n",
    "minimum size for `nums` and also the extremes of the values that can be\n",
    "present. We should include negative numbers and zero in our tests because\n",
    "integers are present in the inputs."
   ]
  },
  {
   "cell_type": "code",
   "execution_count": 2,
   "metadata": {
    "cell_id": "ac8b19eaedc64b4580b0a0ee55a38d06",
    "deepnote_cell_type": "code",
    "deepnote_to_be_reexecuted": false,
    "execution_millis": 561,
    "execution_start": 1700998214777,
    "source_hash": null
   },
   "outputs": [],
   "source": [
    "two_sum_tests = [\n",
    "    [\"minimum size for nums\", [1, 2], 3, (0, 1)],\n",
    "    [\"non-adjacent indices\", [1, 4, 9, 7], 8, (0, 3)],\n",
    "    [\"first two elements\", [5, 7, 1, 2, 8], 12, (0, 1)],\n",
    "    [\"last two elements\", [1, 3, 5, 7, 8], 15, (3, 4)],\n",
    "    [\"repeated elements\", [6, 2, 3, 2], 4, (1, 3)],\n",
    "    [\"max and min range\", [-109, 109, 0], 0, (0, 1)],\n",
    "    [\"lowest target value\", [-50, 1, -59], -109, (0, 2)],\n",
    "    [\"highest target value\", [50, 1, 59], 109, (0, 2)],\n",
    "]"
   ]
  },
  {
   "attachments": {},
   "cell_type": "markdown",
   "metadata": {},
   "source": [
    "### 3.2 Implementations\n",
    "\n",
    "The next cell implements the brute force algorithm using nested `for` loops"
   ]
  },
  {
   "cell_type": "code",
   "execution_count": 3,
   "metadata": {
    "cell_id": "44329d9330bd4375a0ac59857f7ab3a8",
    "deepnote_cell_type": "code",
    "deepnote_to_be_reexecuted": false,
    "execution_millis": 490,
    "execution_start": 1700998215236,
    "source_hash": null
   },
   "outputs": [
    {
     "name": "stdout",
     "output_type": "stream",
     "text": [
      "Testing two_sum_bf:\n",
      "Tests finished.\n"
     ]
    }
   ],
   "source": [
    "def two_sum_bf(nums: list, target: int) -> tuple[int, int]:\n",
    "    \"\"\"Given a list of integers return the indices of the pair that sums to target.\n",
    "\n",
    "    Preconditions:\n",
    "        len(nums) >= 2\n",
    "        -109 <= nums[i] <= 109\n",
    "        -109 <= target <= 109\n",
    "        Exactly one pair a and b in nums has a + b = target\n",
    "    \"\"\"\n",
    "    for index_1 in range(len(nums)):\n",
    "        for index_2 in range(len(nums)):\n",
    "            if index_1 != index_2 and nums[index_1] + nums[index_2] == target:\n",
    "                return index_1, index_2\n",
    "    return (-1, -1)\n",
    "\n",
    "\n",
    "test(two_sum_bf, two_sum_tests)"
   ]
  },
  {
   "attachments": {},
   "cell_type": "markdown",
   "metadata": {},
   "source": [
    "Next up is the mapping algorithm implemented using Python's `dict`."
   ]
  },
  {
   "cell_type": "code",
   "execution_count": 4,
   "metadata": {
    "cell_id": "f1acd50e3be54a0e948c7795637ee2a0",
    "deepnote_cell_type": "code",
    "deepnote_to_be_reexecuted": false,
    "execution_millis": 443,
    "execution_start": 1700998216141,
    "source_hash": null
   },
   "outputs": [
    {
     "name": "stdout",
     "output_type": "stream",
     "text": [
      "Testing two_sum_map:\n",
      "Tests finished.\n"
     ]
    },
    {
     "data": {
      "text/markdown": [
       "**allowed** found issues:\n",
       "- 10: unknown construct"
      ]
     },
     "metadata": {},
     "output_type": "display_data"
    }
   ],
   "source": [
    "def two_sum_map(nums: list, target: int) -> tuple[int, int]:\n",
    "    \"\"\"Given a list of integers return the indices of the pair that sums to target.\n",
    "\n",
    "    Preconditions:\n",
    "        len(nums) >= 2\n",
    "        -109 <= nums[i] <= 109\n",
    "        -109 <= target <= 109\n",
    "        Exactly one pair a and b in nums has a + b = target\n",
    "    \"\"\"\n",
    "    differences: dict[int, int] = {}\n",
    "    for index in range(len(nums)):\n",
    "        difference = target - nums[index]\n",
    "        if nums[index] in differences:\n",
    "            return differences[nums[index]], index\n",
    "        differences[difference] = index\n",
    "    return (-1, -1)\n",
    "\n",
    "\n",
    "test(two_sum_map, two_sum_tests)"
   ]
  },
  {
   "attachments": {},
   "cell_type": "markdown",
   "metadata": {
    "cell_id": "11e07df56c7543d8951171e634bbfa14",
    "deepnote_cell_type": "markdown"
   },
   "source": [
    "## 4 Performance\n",
    "\n",
    "In this section we will measure the run-times of our solutions under various conditions to see if\n",
    "our analysis matches empirical data."
   ]
  },
  {
   "attachments": {},
   "cell_type": "markdown",
   "metadata": {},
   "source": [
    "### 4.1 generating inputs\n",
    "\n",
    "Since the functions that time the code require an input generators, we must\n",
    "write the generator first. The worst-case complexity is often the most useful,\n",
    "so here we write a function that generates a worst case instance by locating\n",
    "the matching pair of numbers at the end of `nums`."
   ]
  },
  {
   "cell_type": "code",
   "execution_count": 5,
   "metadata": {
    "cell_id": "01f9421892f340f8b3ade6e25e315a09",
    "deepnote_cell_type": "code",
    "deepnote_to_be_reexecuted": false,
    "execution_millis": 471,
    "execution_start": 1700998216591,
    "source_hash": null
   },
   "outputs": [
    {
     "data": {
      "text/markdown": [
       "**allowed** found issues:\n",
       "- 8: random.randint\n",
       "- 9: random.randint\n",
       "- 13: random.randint"
      ]
     },
     "metadata": {},
     "output_type": "display_data"
    }
   ],
   "source": [
    "import random\n",
    "\n",
    "def worst(size: int) -> tuple[list[int], int]:\n",
    "    \"\"\"Given a size, generate a problem instance for two sum.\n",
    "\n",
    "    Preconditions: size >= 2; scenario in {\"best\", \"normal\", \"worst\"}\n",
    "    \"\"\"\n",
    "    num1 = random.randint(-109, 109)\n",
    "    num2 = random.randint(-109, 109)\n",
    "    target = num1 + num2\n",
    "    nums = [num1, num2]\n",
    "    while len(nums) < size:\n",
    "        new_num = random.randint(-109, 109)\n",
    "        valid = True\n",
    "        for num in nums:\n",
    "            if target - new_num == num:\n",
    "                valid = False\n",
    "        if valid:\n",
    "            nums.append(new_num)\n",
    "    nums = nums[2:] + nums[:2]\n",
    "    return nums, target"
   ]
  },
  {
   "attachments": {},
   "cell_type": "markdown",
   "metadata": {},
   "source": [
    "### 4.2 Run-times for each solution\n",
    "\n",
    "We now compare the runtimes for both solutions using the input generator for\n",
    "the worst case."
   ]
  },
  {
   "cell_type": "code",
   "execution_count": 6,
   "metadata": {
    "cell_id": "aba31a656d9f45c385f81e314f656e34",
    "deepnote_cell_type": "code",
    "deepnote_to_be_reexecuted": false,
    "execution_millis": 17260,
    "execution_start": 1700998217027,
    "source_hash": null
   },
   "outputs": [
    {
     "name": "stdout",
     "output_type": "stream",
     "text": [
      "Inputs generated by worst\n",
      "\n",
      "Input size      two_sum_bf     two_sum_map \n",
      "       100           669.3             9.2 µs\n",
      "       200          2660.1            21.0 µs\n",
      "       400         10770.2            40.6 µs\n",
      "       800         45877.3            75.1 µs\n",
      "      1600        181893.9           150.2 µs"
     ]
    },
    {
     "data": {
      "image/png": "[encoded data removed]",
      "text/plain": [
       "<Figure size 640x480 with 1 Axes>"
      ]
     },
     "metadata": {},
     "output_type": "display_data"
    }
   ],
   "source": [
    "solutions = [two_sum_bf, two_sum_map]\n",
    "time_functions(solutions, worst, start=100, double=4, chart=True)"
   ]
  },
  {
   "attachments": {},
   "cell_type": "markdown",
   "metadata": {},
   "source": [
    "The run-times for `two_sum_bf` almost instantly eclipse that of `two_sum_map`.\n",
    "In this chart it looks as if the run-times for `two_sum_map` are not growing at\n",
    "all, but we know this is false by observing the printed run times. Let us see\n",
    "if we can modify the inputs of `time_functions` for a better visual\n",
    "representation."
   ]
  },
  {
   "cell_type": "code",
   "execution_count": 7,
   "metadata": {},
   "outputs": [
    {
     "data": {
      "image/png": "[encoded data removed]",
      "text/plain": [
       "<Figure size 640x480 with 1 Axes>"
      ]
     },
     "metadata": {},
     "output_type": "display_data"
    }
   ],
   "source": [
    "solutions = [two_sum_bf, two_sum_map]\n",
    "time_functions(solutions, worst, start=1, double=4, text=False, chart=True)"
   ]
  },
  {
   "attachments": {},
   "cell_type": "markdown",
   "metadata": {},
   "source": [
    "The point at which the run-time growth rates two solutions start to diverge is\n",
    "much clearer now. The brute force approach's run-times still accelerate off\n",
    "into the stratosphere, but we can see the separation and trend of mapping\n",
    "algorithm a lot better.\n",
    "\n",
    "The run-times for the brute force algorithm approximately quadruple every time\n",
    "the input size is doubled, confirming our prediction of a quadratic worst-case\n",
    "time complexity. For the mapping algorithm, the pattern matches that of linear\n",
    "time complexity; as we double the input size, our run-times also double."
   ]
  },
  {
   "attachments": {},
   "cell_type": "markdown",
   "metadata": {},
   "source": [
    "## 5 Conclusion\n",
    "\n",
    "We started this essay with the definition of the Two sum problem. Next, we\n",
    "outlined two algorithms: brute force, and mapping, then analysed the time\n",
    "complexity of each one. After that we implemented and tested our solutions\n",
    "using Python, and in the penultimate section we used empirical testing to see\n",
    "if our analysis matched the data. Now we must decide which of our algorithms is\n",
    "best.\n",
    "\n",
    "The brute force approach, unsurprisingly, is not very efficient when it comes\n",
    "to run-times. We suspected this would be the case, then the empirical testing\n",
    "confirmed it. Its only positive attributes were its simplicity and efficient\n",
    "memory usage. \n",
    "\n",
    "In contrast, the time complexity of the mapping algorithm is reasonably\n",
    "efficient, but this is achieved by using extra memory. space-time In the end,\n",
    "the quadratic time complexity of the brute force algorithm cannot be ignored.\n",
    "The small trade of space for time is worth it in this instance and therefore I\n",
    "conclude the mapping algorithm is best."
   ]
  }
 ],
 "metadata": {
  "deepnote": {},
  "deepnote_execution_queue": [],
  "deepnote_notebook_id": "4a6de191ec8443f9b9cd2c322d8dd60d",
  "kernelspec": {
   "display_name": "Python 3 (ipykernel)",
   "language": "python",
   "name": "python3"
  },
  "language_info": {
   "codemirror_mode": {
    "name": "ipython",
    "version": 3
   },
   "file_extension": ".py",
   "mimetype": "text/x-python",
   "name": "python",
   "nbconvert_exporter": "python",
   "pygments_lexer": "ipython3",
   "version": "3.10.13"
  },
  "orig_nbformat": 2
 },
 "nbformat": 4,
 "nbformat_minor": 0
}
