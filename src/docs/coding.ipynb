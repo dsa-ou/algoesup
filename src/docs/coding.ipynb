{
 "cells": [
  {
   "cell_type": "markdown",
   "id": "eafcc077",
   "metadata": {
    "lines_to_next_cell": 0
   },
   "source": [
    "# Coding guide\n",
    "\n",
    "This document provides guidance on how to write code for your essay."
   ]
  },
  {
   "cell_type": "markdown",
   "id": "070b9ddd",
   "metadata": {},
   "source": [
    "## Code\n",
    "Your code should be correct, simple, and as readable as possible.\n",
    "Unless the aim of your essay is to discuss advanced Python constructs,\n",
    "try to use only a basic subset of the language. This allows more people,\n",
    "including those with limited knowledge of Python, to understand your code.\n",
    "It also makes your code easier to port to other programming languages.\n",
    "\n",
    "We recommend the following workflow, which is further explained in the following subsections.\n",
    "\n",
    "1. Write the tests for your algorithms.\n",
    "2. Implement the algorithms and run the tests.\n",
    "3. Typecheck your code as you run each cell.\n",
    "4. Format your code, cell by cell.\n",
    "5. Check the code style as you run each cell.\n",
    "\n",
    "Writing the tests (step 1) *before* the code they test (step 2) is a cornerstone of\n",
    "**test-driven development**, a widely used practice. Thinking of the tests early\n",
    "in the process helps you better understand the problem and think of correct solutions.\n",
    "\n",
    "<div class=\"admonition info\">\n",
    "  <p class=\"admonition-title\">Info</p>\n",
    "  <p>\n",
    "    If you followed our 'getting started' instructions, the software mentioned\n",
    "    in the next subsections to carry out the above workflow is already installed.\n",
    "  </p>\n",
    "</div>"
   ]
  },
  {
   "cell_type": "markdown",
   "id": "f30d5cb6",
   "metadata": {},
   "source": [
    "## Testing\n",
    "You should write tests for each function, to have some assurance that it is correct.\n",
    "Tests that check the behaviour of a single function are called **unit tests**.\n",
    "The unit tests should cover normal cases and **edge cases**: extreme input values and\n",
    "inputs that lead to extreme output values.\n",
    "\n",
    "For each input, the smallest possible value, e.g. zero or the empty list, is an edge case,\n",
    "and so is the largest possible value, if there is one for that input.\n",
    "If a function is doing a search for an item in a list, then edge cases would be the item being\n",
    "at the start, at the end, or not occurring at all.\n",
    "If the output is a list, then inputs that produce the empty list are edge cases too.\n",
    "In summary, try to think of the 'trickiest' inputs the algorithm has to cope with.\n",
    "\n",
    "We provide a small library to support algorithmic essays: `algoesup`.\n",
    "It allows you to easily write and run unit tests. Here's an example.\n",
    "(The `# fmt: off` and `# fmt: on` lines will be explained later.)"
   ]
  },
  {
   "cell_type": "code",
   "execution_count": 1,
   "id": "58c2c80c",
   "metadata": {
    "lines_to_next_cell": 0
   },
   "outputs": [
    {
     "name": "stdout",
     "output_type": "stream",
     "text": [
      "Testing absolute_difference...\n",
      "x < y FAILED: -11 instead of 11\n",
      "Tests finished: 2 passed, 1 failed.\n"
     ]
    }
   ],
   "source": [
    "from algoesup import test\n",
    "\n",
    "# function to be tested\n",
    "def absolute_difference(x: int, y: int) -> int:\n",
    "    \"\"\"Return the absolute value of the difference between x and y.\"\"\"\n",
    "    return x - y  # deliberately wrong, should be abs(x - y)\n",
    "\n",
    "# fmt: off\n",
    "# unit tests in tabular form, one test per row\n",
    "unit_tests = [\n",
    "    # test case,  x,    y,    expected result\n",
    "    (\"x == y\",    1,    1,    0),\n",
    "    (\"x > y\",     10,   -1,   11),\n",
    "    (\"x < y\",     -1,   10,   11),\n",
    "]\n",
    "# fmt: on\n",
    "\n",
    "# run the function on all test inputs and compare the actual and expected outputs\n",
    "test(absolute_difference, unit_tests)"
   ]
  },
  {
   "cell_type": "markdown",
   "id": "01a34a1d",
   "metadata": {
    "lines_to_next_cell": 0
   },
   "source": [
    "A unit test consists of the input values to pass to your function and the output value you're expecting.\n",
    "The library requires a short descriptive string for each unit test, so that it can indicate which tests failed.\n",
    "The library expects unit tests to be in tabular format: one row per test, and\n",
    "one column for the description, one column for each input, and one column for the expected output.\n",
    "In the example above, the test table is a list of tuples, but it could as well be\n",
    "a list of lists, a tuple of lists, or a tuple of tuples.\n",
    "\n",
    "You should reuse the test table for *all* solutions, because they're about the *same* problem.\n",
    "Here's a correct function that passes all test cases."
   ]
  },
  {
   "cell_type": "code",
   "execution_count": 2,
   "id": "9829f6d2",
   "metadata": {
    "lines_to_next_cell": 0
   },
   "outputs": [
    {
     "name": "stdout",
     "output_type": "stream",
     "text": [
      "Testing absolute_difference_without_abs...\n",
      "Tests finished: 3 passed, 0 failed.\n"
     ]
    }
   ],
   "source": [
    "def absolute_difference_without_abs(x: int, y: int) -> int:\n",
    "    \"\"\"Return the absolute value of the difference between x and y.\n",
    "\n",
    "    This solution doesn't use the built-in abs() function.\n",
    "    \"\"\"\n",
    "    if x > y:\n",
    "        return x - y\n",
    "    else:\n",
    "        return y - x\n",
    "\n",
    "test(absolute_difference_without_abs, unit_tests) # same test table"
   ]
  },
  {
   "cell_type": "markdown",
   "id": "72fa96cb",
   "metadata": {
    "lines_to_next_cell": 0
   },
   "source": [
    "## Type checking\n",
    "As the above examples show, your code should contain type hints\n",
    "like `x: int` and `... -> int` to indicate the type of the input and of the output.\n",
    "They make your code easier to understand, and help type checkers detect any type mismatches,\n",
    "like passing a string instead of an integer.\n",
    "\n",
    "<div class=\"admonition tip\">\n",
    "  <p class=\"admonition-title\">Tip</p>\n",
    "  <p>\n",
    "    The <code>mypy</code> type checker provides a handy summary of Python's\n",
    "    <a href=\"https://mypy.readthedocs.io/en/stable/cheat_sheet_py3.html\">type hints</a>.\n",
    "  </p>\n",
    "</div>\n",
    "\n",
    "To type check each code cell of your notebook,\n",
    "you must first load an extension included in the `algoesup` library."
   ]
  },
  {
   "cell_type": "code",
   "execution_count": 3,
   "id": "d0caec12",
   "metadata": {
    "lines_to_next_cell": 0
   },
   "outputs": [],
   "source": [
    "%load_ext algoesup.magics"
   ]
  },
  {
   "cell_type": "markdown",
   "id": "cba5ffeb",
   "metadata": {
    "lines_to_next_cell": 0
   },
   "source": [
    "(Magics are special commands that can change the behaviour of running a code cell.)\n",
    "You can now turn on type checking as follows."
   ]
  },
  {
   "cell_type": "code",
   "execution_count": 4,
   "id": "a32021d2",
   "metadata": {
    "lines_to_next_cell": 0
   },
   "outputs": [
    {
     "name": "stdout",
     "output_type": "stream",
     "text": [
      "pytype was activated\n"
     ]
    }
   ],
   "source": [
    "%pytype on"
   ]
  },
  {
   "cell_type": "markdown",
   "id": "282e4e41",
   "metadata": {
    "lines_to_next_cell": 0
   },
   "source": [
    "Words that start with `%` are special commands ('magics') for IPython, \n",
    "the Python interpreter used by Jupyter notebooks.\n",
    "The `%pytype` command, provided by our library, \n",
    "activates Google's [pytype](https://google.github.io/pytype) type checker.\n",
    "\n",
    "Once the type checker is activated, it checks each cell immediately after it's executed.\n",
    "In this way you can detect and fix errors as you write and run each code cell.\n",
    "Here's an example of what happens."
   ]
  },
  {
   "cell_type": "code",
   "execution_count": 5,
   "id": "b15118ed",
   "metadata": {
    "lines_to_next_cell": 0
   },
   "outputs": [
    {
     "data": {
      "text/plain": [
       "[4, 4]"
      ]
     },
     "execution_count": 5,
     "metadata": {},
     "output_type": "execute_result"
    },
    {
     "data": {
      "text/markdown": [
       "**pytype** found issues:\n",
       "\n",
       "- 5: Function double was called with the wrong arguments \\[[wrong-arg-types](https://google.github.io/pytype/errors.html#wrong-arg-types)\\]"
      ]
     },
     "metadata": {},
     "output_type": "display_data"
    }
   ],
   "source": [
    "def double(x: int) -> int:\n",
    "    \"\"\"Return twice the value of x.\"\"\"\n",
    "    return x * 2\n",
    "\n",
    "double([4])"
   ]
  },
  {
   "cell_type": "markdown",
   "id": "d238004b",
   "metadata": {
    "lines_to_next_cell": 0
   },
   "source": [
    "The function is executed and produces an output because lists can also be 'multiplied' with an integer,\n",
    "but the type checker detects that line 5 should have passed integers, not lists of integers, to the function.\n",
    "Clicking on the error name in square brackets leads you to `pytype`'s website, with more info.\n",
    "\n",
    "When a type checker only processes one cell at a time, it is missing the wider context,\n",
    "like the previously defined functions. Therefore, `pytype` won't spot all type errors.\n",
    "However, some checking is better than no checking.\n",
    "\n",
    "The type checker adds some seconds to the overall time to run each code cell.\n",
    "You may thus wish to initially turn off the type checking, with `%pytype off`,\n",
    "and only turn it on after all code is written and tested.\n",
    "You will have to run all cells of your notebook for the type checking to take place.\n",
    "\n",
    "For a list of all the options for the `%pytype` command,\n",
    "see the [library reference](../library/#algoesup.magics.pytype)."
   ]
  },
  {
   "cell_type": "markdown",
   "id": "2060cfd2",
   "metadata": {},
   "source": [
    "## Formatting\n",
    "<div class=\"admonition note\">\n",
    "  <p class=\"admonition-title\">Note</p>\n",
    "  <p>This subsection only applies to Deepnote.</p>\n",
    "</div>\n",
    "\n",
    "Once you have written, tested and type checked all your code, you should format it so that\n",
    "it follows the Python community's code style.\n",
    "You will need to format each cell, as explained [here](deepnote-how-to.md#format-a-code-cell).\n",
    "\n",
    "If there's a block of code that you don't want the formatter to change,\n",
    "write `# fmt: off` on its own line before the block and write `# fmt: on` after the block,\n",
    "to temporarily switch off formatting for that block.\n",
    "This feature is especially useful for keeping the format of unit test tables,\n",
    "as shown in an earlier example.\n",
    "\n",
    "The Deepnote formatter automatically enforces simple formatting conventions, like\n",
    "4 spaces for indentation and 2 empty lines between functions,\n",
    "so you will see fewer warnings in the next stage.\n",
    "\n",
    "<div class=\"admonition info\">\n",
    "  <p class=\"admonition-title\">Info</p>\n",
    "  <p>\n",
    "    We suspect Deepnote enforces\n",
    "    <a href=\"https://black.readthedocs.io/en/stable/the_black_code_style/current_style.html\">\n",
    "    <em>Black</em>'s code style</a>.\n",
    "  </p>\n",
    "</div>"
   ]
  },
  {
   "cell_type": "markdown",
   "id": "a0378637",
   "metadata": {},
   "source": [
    "## Linting\n",
    "You should **lint** your code, which means to check it for style violations.\n",
    "\n",
    "<div class=\"admonition tip\">\n",
    "  <p class=\"admonition-title\">Tip</p>\n",
    "  <p>\n",
    "    You may wish to skim at some point the Python\n",
    "    <a href=\"https://peps.python.org/pep-0008\">code style</a> and\n",
    "    <a href=\"https://peps.python.org/pep-0257\">docstring conventions</a>.\n",
    "  </p>\n",
    "</div>"
   ]
  },
  {
   "cell_type": "markdown",
   "id": "3cf36436",
   "metadata": {},
   "source": [
    "### Code style\n",
    "Our library supports [Ruff](https://docs.astral.sh/ruff), the fastest Python linter.\n",
    "To turn it on, write the following after loading the `algoesup.magics` extension."
   ]
  },
  {
   "cell_type": "code",
   "execution_count": 6,
   "id": "b2788c4d",
   "metadata": {
    "lines_to_next_cell": 0
   },
   "outputs": [
    {
     "name": "stdout",
     "output_type": "stream",
     "text": [
      "ruff was activated\n"
     ]
    }
   ],
   "source": [
    "%ruff on"
   ]
  },
  {
   "cell_type": "markdown",
   "id": "dff73324",
   "metadata": {
    "lines_to_next_cell": 0
   },
   "source": [
    "From now on, each cell is automatically linted after it's executed. Here's an example:"
   ]
  },
  {
   "cell_type": "code",
   "execution_count": 7,
   "id": "9f575e5e",
   "metadata": {
    "lines_to_next_cell": 0
   },
   "outputs": [
    {
     "name": "stdout",
     "output_type": "stream",
     "text": [
      "5 isn't in the list\n"
     ]
    },
    {
     "data": {
      "text/markdown": [
       "**ruff** found issues:\n",
       "\n",
       "- 1: \\[[E741](https://docs.astral.sh/ruff/rules/ambiguous-variable-name)\\] Ambiguous variable name: `l`\n",
       "- 2: \\[[E712](https://docs.astral.sh/ruff/rules/true-false-comparison)\\] Avoid equality comparisons to `True`; use `if not 5 in l:` for truth checks. Suggested fix: Replace with `not 5 in l`\n",
       "- 2: \\[[PLR2004](https://docs.astral.sh/ruff/rules/magic-value-comparison)\\] Magic value used in comparison, consider replacing `5` with a constant variable\n",
       "- 2: \\[[E713](https://docs.astral.sh/ruff/rules/not-in-test)\\] Test for membership should be `not in`. Suggested fix: Convert to `not in`"
      ]
     },
     "metadata": {},
     "output_type": "display_data"
    }
   ],
   "source": [
    "l = [1, 2, 3]\n",
    "if (not 5 in l) == True:\n",
    "    print(\"5 isn't in the list\")"
   ]
  },
  {
   "cell_type": "markdown",
   "id": "ef7f0462",
   "metadata": {
    "lines_to_next_cell": 0
   },
   "source": [
    "Every message indicates the line of the problem.\n",
    "\n",
    "- Issue E741: `l` can be misread for `1` (one).\n",
    "- Issues E712 and E713: `if (not 5 in l) == True` should be simply `if 5 not in l`\n",
    "- Issue PLR2004 recommends using constants, like `EXPECTED_VALUE`,\n",
    "  instead of literals like 5 that are meaningless to the reader.\n",
    "\n",
    "As this code cell shows, Ruff sometimes suggests how to fix the reported error,\n",
    "but you must consider whether the suggestion is appropriate.\n",
    "\n",
    "If you don't understand an error message, like the first one, click on\n",
    "the error code in brackets, to get more information from Ruff's website.\n",
    "\n",
    "Like for type checking, linting one cell at a time means that the linter is\n",
    "unaware of the wider context of your code. For example, in notebooks,\n",
    "variables may be defined in one cell but used in a later cell. As the linter\n",
    "checks each cell separately, it would report an undefined variable in the later cell.\n",
    "We have disabled checks for undefined variables and other checks that would lead to\n",
    "irrelevant error messages in notebooks, which means that genuine undefined variables\n",
    "won't be flagged. But again, some linting is better than none.\n",
    "\n",
    "If you get errors that you think are irrelevant,\n",
    "you can disable them with the `--ignore` option:\n",
    "see the [library reference](../library/#algoesup.magics.ruff)."
   ]
  },
  {
   "cell_type": "markdown",
   "id": "57af5708",
   "metadata": {},
   "source": [
    "### Language subset\n",
    "Our library also supports the [allowed](https://dsa-ou.github.io/allowed) linter, created by ourselves.\n",
    "It checks whether your code only uses a certain subset of the Python language.\n",
    "This gives you some reassurance that your code will be understood by a wide audience.\n",
    "\n",
    "By default, `allowed` checks against the Python subset used in our\n",
    "algorithms and data structures course.\n",
    "So, if you're an M269 student, to check that your essay is easily understood\n",
    "by your peers in terms of Python constructs, just add the following after loading the extension:"
   ]
  },
  {
   "cell_type": "code",
   "execution_count": 8,
   "id": "c921461a",
   "metadata": {
    "lines_to_next_cell": 0
   },
   "outputs": [
    {
     "name": "stdout",
     "output_type": "stream",
     "text": [
      "allowed was activated\n"
     ]
    }
   ],
   "source": [
    "%allowed on"
   ]
  },
  {
   "cell_type": "markdown",
   "id": "21cd1f46",
   "metadata": {
    "lines_to_next_cell": 0
   },
   "source": [
    "Henceforth, after a cell is executed, the `allowed` linter will list any constructs,\n",
    "modules or built-in types we haven't taught, like this:"
   ]
  },
  {
   "cell_type": "code",
   "execution_count": 9,
   "id": "d7e641f3",
   "metadata": {
    "lines_to_next_cell": 0
   },
   "outputs": [
    {
     "name": "stdout",
     "output_type": "stream",
     "text": [
      "π is approximately 3.14159.\n"
     ]
    },
    {
     "data": {
      "text/markdown": [
       "**allowed** found issues:\n",
       "\n",
       "- 1: sin\n",
       "- 3: f-string"
      ]
     },
     "metadata": {},
     "output_type": "display_data"
    }
   ],
   "source": [
    "from math import pi, sin\n",
    "\n",
    "print(f\"π is approximately {pi:.5f}.\")"
   ]
  },
  {
   "cell_type": "markdown",
   "id": "6d4cf652",
   "metadata": {
    "lines_to_next_cell": 0
   },
   "source": [
    "We haven't taught the `math.sin()` function nor f-strings, and `allowed` reports these.\n",
    "\n",
    "Any line that ends with the comment `# allowed` is ignored. This is useful when\n",
    "you don't want the linter to flag a construct that you explain in your essay.\n",
    "For example, adding the comment after `print(...)` would not report the f-string.\n",
    "Note that the comment makes the tool skip the *whole* line:\n",
    "if it has several constructs that weren't taught, none of them is reported.\n",
    "\n",
    "The `allowed` linter also includes the configuration for TM112, our introductory Computing course,\n",
    "in case you want to use even fewer constructs in your essay.\n",
    "To use that configuration, write `%allowed on --config tm112.json`.\n",
    "For a list of all the options for the `%allowed` command,\n",
    "see the [library reference](../library/#algoesup.magics.allowed).\n",
    "\n",
    "You can configure the linter with a JSON file that lists the allowed constructs.\n",
    "See the `allowed` [website](https://dsa-ou.github.io/allowed) for instructions.\n",
    "\n",
    "<div class=\"admonition tip\">\n",
    "  <p class=\"admonition-title\">Deepnote</p>\n",
    "  <p>\n",
    "    <a href=\"../deepnote-how-to/#rename-duplicate-download-or-delete-a-notebook-or-file\">Rename</a>\n",
    "    the <code>allowed.json</code> configuration in the <strong>Files</strong> section of your project,\n",
    "    and adapt it to your course.\n",
    "  </p>\n",
    "</div>\n"
   ]
  },
  {
   "cell_type": "markdown",
   "id": "b2875f51",
   "metadata": {},
   "source": [
    "## Performance analysis\n",
    "Complexity analysis gives an indication of how the run-times will grow as the inputs grow,\n",
    "but it can't predict the exact run-times nor which algorithm is in practice fastest.\n",
    "\n",
    "Our library helps measure and plot the run-times of one function on different kinds of input,\n",
    "or of different functions on the same inputs.\n",
    "\n",
    "For example, let's suppose our essay is about sorting algorithms and we have implemented selection sort."
   ]
  },
  {
   "cell_type": "code",
   "execution_count": 10,
   "id": "6413198e",
   "metadata": {},
   "outputs": [],
   "source": [
    "def selection_sort(values: list[int]) -> list[int]:\n",
    "    \"\"\"Return a copy of the values, in ascending order.\"\"\"\n",
    "    result = values[:]\n",
    "    for current in range(len(result) - 1):\n",
    "        # select the smallest element in result[current:] ...\n",
    "        smallest = current\n",
    "        for index in range(current + 1, len(result)):\n",
    "            if result[index] < result[smallest]:\n",
    "                smallest = index\n",
    "        # ... and swap it with the current element\n",
    "        result[current], result[smallest] = result[smallest], result[current]\n",
    "    return result"
   ]
  },
  {
   "cell_type": "markdown",
   "id": "ef66a190",
   "metadata": {
    "lines_to_next_cell": 0
   },
   "source": [
    "### Generating inputs\n",
    "To measure the run-times of sorting algorithms on increasingly large lists,\n",
    "we must implement functions that generate such lists. For example, we can write\n",
    "a function that generates lists that are already in ascending order,\n",
    "which is a best case for many sorting algorithms, and\n",
    "a function that generates lists that are in descending order,\n",
    "which is a worst case for some sorting algorithms.\n",
    "\n",
    "The library expects such input-generating functions to take a non-negative integer *n*,\n",
    "and to produce a tuple of input values, with total size *n*. Why a tuple?\n",
    "Although our sorting algorithm takes a single input (a list of integers),\n",
    "many algorithms take more than one input. Thus the input-generating functions must\n",
    "generate a tuple of inputs, in the same order as expected by the algorithm."
   ]
  },
  {
   "cell_type": "code",
   "execution_count": 11,
   "id": "582196f6",
   "metadata": {
    "lines_to_next_cell": 0
   },
   "outputs": [],
   "source": [
    "def ascending(n: int) -> tuple[list[int]]:\n",
    "    \"\"\"Return a list of n integers in ascending order.\"\"\"\n",
    "    return (list(range(1, n + 1)),)  # trailing comma to make it a tuple\n",
    "\n",
    "def descending(n: int) -> tuple[list[int]]:\n",
    "    \"\"\"Return a list of n integers in descending order.\"\"\"\n",
    "    return (list(range(n, 0, -1)),)"
   ]
  },
  {
   "cell_type": "markdown",
   "id": "e0823a86",
   "metadata": {
    "lines_to_next_cell": 0
   },
   "source": [
    "We should of course test these functions, to make sure they produce the expected lists,\n",
    "but we will skip that in this explanation because we're focusing on how to measure run-times.\n",
    "\n",
    "### Comparing cases\n",
    "To measure the run-times of a function `f`  on best, average and worst case inputs, use\n",
    "library function `time_cases(f, [case1, case2, ...], start, steps, factor, increment)`.\n",
    "The second argument can be a list (or tuple) of up to 6 input-generating functions.\n",
    "The `time_cases` function works as follows.\n",
    "\n",
    "1. Call `case1(start)` to generate inputs of size `start` for `f`.\n",
    "2. Run function `f` on the generated inputs and measure its run-time.\n",
    "3. Do the two previous steps with each of the functions `case2, ...`.\n",
    "4. Set `start` to `start * factor + increment` and go back to step 1.\n",
    "\n",
    "The whole process stops when `start` has been multiplied by `factor` and summed\n",
    "with `increment` a set number of times specified by `steps`. If `steps` is\n",
    "zero, the run-times are only measured for size `start`. The `factor` and\n",
    "`increment` parameters allow flexibility when increasing the input\n",
    "size. For example, if `factor` is 2 and `increment` is zero, which are the\n",
    "default values, then the input size is doubled a set number of times. However,\n",
    "if `factor` is 1 and `increment` is 1, then the input size is increased by 1 a\n",
    "set number of times. Different combinations of `factor` and `increment` yield different\n",
    "increases in input size.\n",
    "\n",
    "Here's how we could measure the run-times for selection sort on ascending and\n",
    "descending lists. Note that arguments `factor` and `increment` are absent from \n",
    "our function call and will default to values 2 and 0 respectively, doubling the input size for each measurement. (The `algoesup` library is not part of `allowed`'s default configuration, so we must \n",
    "explicitly allow importing it.)"
   ]
  },
  {
   "cell_type": "code",
   "execution_count": 12,
   "id": "f1624168",
   "metadata": {
    "lines_to_next_cell": 0
   },
   "outputs": [
    {
     "name": "stdout",
     "output_type": "stream",
     "text": [
      "Run-times for selection_sort\n",
      "\n",
      "Input size       ascending      descending \n",
      "       100           203.1           210.4 µs\n",
      "       200           753.8           805.2 µs\n",
      "       400          3446.5          3531.4 µs\n",
      "       800         14115.7         14699.0 µs\n",
      "      1600         57811.7         61438.2 µs"
     ]
    }
   ],
   "source": [
    "from algoesup import time_cases  # allowed\n",
    "\n",
    "time_cases(selection_sort, [ascending, descending], start=100, steps=4)"
   ]
  },
  {
   "cell_type": "markdown",
   "id": "1915d710",
   "metadata": {
    "lines_to_next_cell": 0
   },
   "source": [
    "Running selection sort on lists from 100 to 1600 integers takes about 170 microseconds to 45 milliseconds.\n",
    "To measure precisely such small time spans, function `f` (here, `selection_sort`) is called\n",
    "multiple times on the same input, within a loop, and the total time is divided by\n",
    "the number of iterations, to obtain a better estimate of the time taken by a single call to `f`.\n",
    "The whole process is repeated 3 times, because the run-times will vary due to other processes running on the computer.\n",
    "The lowest of the 3 run-times is reported.\n",
    "\n",
    "Because function `f` is called multiple times, it is very important that `f` **does *not* modify its inputs**.\n",
    "For example, if `selection_sort` sorted the list in-place, instead of returning a new list,\n",
    "then the first call would put the numbers in ascending order, and the subsequent calls\n",
    "would just try to sort an already sorted list, swapping no numbers.\n",
    "We would obtain almost exact same times for ascending and descending input lists,\n",
    "instead of always larger times for descending lists, as shown above.\n",
    "\n",
    "When executing a cell like the previous one, be patient while waiting for the results.\n",
    "Even though each call may just take a few milliseconds or less, the code cell will take several seconds or\n",
    "even minutes to execute, because the function is called many times to make the measurements more robust."
   ]
  },
  {
   "cell_type": "markdown",
   "id": "693f757b",
   "metadata": {},
   "source": [
    "### Comparing functions\n",
    "Our library also allows you to compare different algorithms for the same input case.\n",
    "For that, use `time_functions([f1, f2, ...], case, start, steps, factor, increment)`, which does the following:\n",
    "1. Call `case(start)` to generate inputs of total size `start`.\n",
    "2. Call each function `f1`, `f2`, etc. on the generated inputs and measure their run-times.\n",
    "3. Set `start` to `start * factor + increment` and go to step 1.\n",
    "\n",
    "Again, the whole process stops when `start` has been multiplied by `factor` and summed\n",
    "with `increment` a set number of times specified by `steps`. \n",
    "\n",
    "The run-times are measured as for `time_cases`: take the best of 3 run-times, each obtained by\n",
    "calling the function within a loop and dividing the total time by the number of iterations.\n",
    "\n",
    "Here's a comparison of the built-in `sorted` function against selection sort, on descending lists."
   ]
  },
  {
   "cell_type": "code",
   "execution_count": 13,
   "id": "0bc06be6",
   "metadata": {
    "lines_to_next_cell": 0
   },
   "outputs": [
    {
     "name": "stdout",
     "output_type": "stream",
     "text": [
      "Inputs generated by descending\n",
      "\n",
      "Input size  selection_sort          sorted \n",
      "       100           206.7             0.5 µs\n",
      "       200           796.4             0.9 µs\n",
      "       400          3650.4             1.5 µs\n",
      "       800         14990.5             3.5 µs\n",
      "      1600         61758.8             6.9 µs"
     ]
    }
   ],
   "source": [
    "from algoesup import time_functions  # allowed\n",
    "\n",
    "time_functions([selection_sort, sorted], descending, start=100, steps=4)"
   ]
  },
  {
   "cell_type": "markdown",
   "id": "db8aedf5",
   "metadata": {},
   "source": [
    "As expected, the built-in sorting implementation is much, much faster."
   ]
  },
  {
   "cell_type": "markdown",
   "id": "b6b18ddd",
   "metadata": {},
   "source": [
    "### Charting run-times\n",
    "If you add argument `chart=True` to `time_cases` or `time_functions`, then\n",
    "you will see a line chart of the run-times, in addition to the exact run-times.\n",
    "If you only want to see the chart, then add arguments `text=False, chart=True`."
   ]
  },
  {
   "cell_type": "code",
   "execution_count": 14,
   "id": "0bb9408e",
   "metadata": {
    "lines_to_next_cell": 0
   },
   "outputs": [
    {
     "data": {
      "image/png": "[encoded data removed]",
      "text/plain": [
       "<Figure size 640x480 with 1 Axes>"
      ]
     },
     "metadata": {},
     "output_type": "display_data"
    }
   ],
   "source": [
    "time_cases(sorted, [ascending, descending], 100, 4, text=False, chart=True)"
   ]
  },
  {
   "cell_type": "code",
   "execution_count": 15,
   "id": "22406a6e",
   "metadata": {
    "lines_to_next_cell": 0
   },
   "outputs": [
    {
     "name": "stdout",
     "output_type": "stream",
     "text": [
      "Inputs generated by ascending\n",
      "\n",
      "Input size          sorted  selection_sort \n",
      "       100           578.4        201064.5 ns\n",
      "       200          1009.6        764379.6 ns\n",
      "       400          1817.4       3455434.5 ns\n",
      "       800          3695.7      14227847.7 ns\n",
      "      1600          7579.3      56818440.6 ns"
     ]
    },
    {
     "data": {
      "image/png": "[encoded data removed]",
      "text/plain": [
       "<Figure size 640x480 with 1 Axes>"
      ]
     },
     "metadata": {},
     "output_type": "display_data"
    }
   ],
   "source": [
    "time_functions([sorted, selection_sort], ascending, 100, 4, chart=True)"
   ]
  },
  {
   "cell_type": "markdown",
   "id": "c2dd692a",
   "metadata": {},
   "source": [
    "The `1e7` above the y-axis means that the run-times must be multiplied by 10⁷, i.e. 10 million.\n",
    "\n",
    "Note that when calling `time_functions([selection_sort, sorted], ...)` in the previous section,\n",
    "the run-times were reported in microseconds,\n",
    "but when calling `time_functions([sorted, selection_sort], ...)` in this section, they were in nanoseconds.\n",
    "The reason is that the library chooses the time unit based on the first run-time measured.\n",
    "If there's a big time difference between the fastest and slowest cases or algorithms,\n",
    "you may wish for the first function in the list to be the *slowest* one, to report it with\n",
    "small values in a 'large' time unit, instead of very large values in a 'small' time unit.\n",
    "So, in `time_functions([f1, f2, ...], case, ...)` the slowest function should be `f1`,\n",
    "and in `time_cases(f, [case1, case2, ...], ...)` the worst case should be `case1`."
   ]
  },
  {
   "cell_type": "markdown",
   "id": "40deea62",
   "metadata": {},
   "source": [
    "### Increasing the input size by smaller increments"
   ]
  },
  {
   "cell_type": "markdown",
   "id": "25c0bbf9",
   "metadata": {},
   "source": [
    "Doubling the input size for consecutive measurements isn't always appropriate. For example, let's suppose we want to measure and compare run-times of the following two functions, which given an integer *n*, return the *n*th term in the Fibonacci sequence. "
   ]
  },
  {
   "cell_type": "code",
   "execution_count": 16,
   "id": "74411238",
   "metadata": {},
   "outputs": [],
   "source": [
    "def fibonacci_rec(n: int) -> int:\n",
    "    \"\"\"Return the nth term of the Fibonacci sequence.\"\"\"\n",
    "    if n <= 1:\n",
    "        return n\n",
    "    else:\n",
    "        return fibonacci_rec(n-1) + fibonacci_rec(n-2)\n",
    "\n",
    "def fibonacci_it(n: int) -> int:\n",
    "    \"\"\"Return the nth term of the Fibonacci sequence.\"\"\"\n",
    "    if n <= 1:\n",
    "        return n\n",
    "    previous_fib, current_fib = 0, 1\n",
    "    for _ in range(2, n + 1):\n",
    "        previous_fib, current_fib = current_fib, previous_fib + current_fib\n",
    "    return current_fib"
   ]
  },
  {
   "cell_type": "markdown",
   "id": "2e14b52c",
   "metadata": {},
   "source": [
    "These functions take a single integer input, hence we use the following code to generate inputs."
   ]
  },
  {
   "cell_type": "code",
   "execution_count": 17,
   "id": "7d9c2988",
   "metadata": {},
   "outputs": [],
   "source": [
    "def int_value(n: int) -> tuple[int]:\n",
    "    \"\"\"Return the value n.\"\"\"\n",
    "    return (n,)"
   ]
  },
  {
   "cell_type": "markdown",
   "id": "5f6f542a",
   "metadata": {},
   "source": [
    "In the next cell we measure the run-times for doubling input sizes in the same way as the previous examples."
   ]
  },
  {
   "cell_type": "code",
   "execution_count": 19,
   "id": "d17af88d",
   "metadata": {},
   "outputs": [
    {
     "name": "stdout",
     "output_type": "stream",
     "text": [
      "Inputs generated by int_value\n",
      "\n",
      "Input size   fibonacci_rec    fibonacci_it \n",
      "         4           660.7           311.0 ns\n",
      "         8          4723.7           409.4 ns\n",
      "        16        224212.8           640.4 ns\n",
      "        32     494540220.0          1159.6 ns"
     ]
    }
   ],
   "source": [
    "time_functions([fibonacci_rec, fibonacci_it], int_value, start=4, steps=3,)"
   ]
  },
  {
   "cell_type": "markdown",
   "id": "f8414404",
   "metadata": {},
   "source": [
    "The run-times above show that `fibonacci_rec` has a large growth rate and is quickly becoming unwieldy. Increasing the number of steps would mean waiting an unreasonable amount of time for the cell to execute, and would increase the risk of reaching Python's recursion limit. For functions we suspect have large growth rates (e.g. exponential, factorial etc), it can be more appropriate to increase the input size by 1 for consecutive run-time measurements. We do this in the next cell by passing arguments `factor=1` and `increment=1` to `time_functions`."
   ]
  },
  {
   "cell_type": "code",
   "execution_count": 20,
   "id": "1689b3a7",
   "metadata": {},
   "outputs": [
    {
     "name": "stdout",
     "output_type": "stream",
     "text": [
      "Inputs generated by int_value\n",
      "\n",
      "Input size   fibonacci_rec    fibonacci_it \n",
      "         4           660.2           303.7 ns\n",
      "         5          1077.8           325.4 ns\n",
      "         6          1833.8           354.4 ns\n",
      "         7          2886.6           370.9 ns\n",
      "         8          4985.8           407.0 ns"
     ]
    },
    {
     "data": {
      "image/png": "[encoded data removed]",
      "text/plain": [
       "<Figure size 640x480 with 1 Axes>"
      ]
     },
     "metadata": {},
     "output_type": "display_data"
    }
   ],
   "source": [
    "time_functions([fibonacci_rec, fibonacci_it],\n",
    "                                   int_value,\n",
    "                                     start=4,\n",
    "                                     steps=4,\n",
    "                                    factor=1,\n",
    "                                 increment=1,\n",
    "                                  chart=True)"
   ]
  },
  {
   "cell_type": "markdown",
   "id": "10a5c893",
   "metadata": {},
   "source": [
    "### Interpreting run-times\n",
    "If, as the input size doubles, the run-times...\n",
    "\n",
    "- ...remain the same, then the function has constant complexity.\n",
    "- ...also double, then the function has linear complexity.\n",
    "- ...quadruple, then the function has quadratic complexity.\n",
    "- ...increase by a fixed amount, then the function has logarithmic complexity.\n",
    "\n",
    "If, as the input size increases by 1, the run-times...\n",
    "\n",
    "- ...remain the same, then the function has constant complexity.\n",
    "- ...increase by a fixed amount, then the function has linear complexity.\n",
    "- ...increase by a constant factor, then the function has exponential complexity\n",
    "\n",
    "Looking at the run-times reported in the previous subsections, we can see that\n",
    "`sorted` is linear because the run-times about double when the input size doubles,\n",
    "whereas selection sort is quadratic because the run-times increase about 4-fold when the input size doubles. \n",
    "The `fibonacci_rec` function is exponential because the run-times increase by a factor of about 1.6 when the \n",
    "input size increases by 1. The `fibonacci_it` function is linear, since the run-times increase by a fixed amount of about 25 ns when the\n",
    "input size increases by 1.\n",
    "\n",
    "Remember that run-times vary every time you execute a cell because the computer\n",
    "is executing other processes. This may lead to the odd behaviour here and there.\n",
    "For example, we have noted that `sorted` is occasionally faster for *descending* lists,\n",
    "which is counter-intuitive because it does have to reverse them.\n",
    "\n",
    "If you can't see any trend in the run-times, or they aren't what you expect,\n",
    "one possible cause is that the input sizes are too small.\n",
    "Increase `start` and run again the code cell.\n",
    "\n",
    "If after increasing the start size several times you still don't get the run-times\n",
    "you expect from your complexity analysis, then there might be other explanations:\n",
    "\n",
    "- your complexity analysis is wrong\n",
    "- your implemented algorithm modifies its input\n",
    "- your input-generating functions are not generating best or worst cases.\n",
    "\n",
    "For an example of the latter, see the [Jewels and Stones](../essays/example-jewels/) essay."
   ]
  },
  {
   "cell_type": "markdown",
   "id": "5be02619",
   "metadata": {},
   "source": [
    "## Final check\n",
    "Once you finished your code, [check your essay](../writing/#final-check)."
   ]
  }
 ],
 "metadata": {
  "jupytext": {
   "cell_metadata_filter": "-all",
   "main_language": "python",
   "notebook_metadata_filter": "-all"
  },
  "kernelspec": {
   "display_name": "algoesup-Ho0hiGeC-py3.10",
   "language": "python",
   "name": "python3"
  },
  "language_info": {
   "codemirror_mode": {
    "name": "ipython",
    "version": 3
   },
   "file_extension": ".py",
   "mimetype": "text/x-python",
   "name": "python",
   "nbconvert_exporter": "python",
   "pygments_lexer": "ipython3",
   "version": "3.10.13"
  }
 },
 "nbformat": 4,
 "nbformat_minor": 5
}
