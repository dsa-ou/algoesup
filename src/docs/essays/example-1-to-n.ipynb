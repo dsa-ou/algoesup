{
 "cells": [
  {
   "cell_type": "markdown",
   "metadata": {
    "cell_id": "7d5cdec1dd5543618a0bb661ad996a41",
    "deepnote_cell_type": "markdown"
   },
   "source": [
    "# Sum of 1 to *n*\n",
    "\n",
    "*Michel Wermelinger*, 22 January 2024, last updated 16 March 2024"
   ]
  },
  {
   "cell_type": "markdown",
   "metadata": {},
   "source": [
    "This short notebook provides a very simple example of an [algorithmic essay](https://dsa-ou.github.com/algoesup) and \n",
    "shows the support that our library provides.\n",
    "\n",
    "The problem to be solved is to compute the sum of the integers, 1, 2, ..., *n*,\n",
    "for some given *n*. Two solutions will be presented, both only using basic Python.\n",
    "\n",
    "The first thing to do is to import the necessary functions from the algorithmic essays support library.\n",
    "The functions will be explained later, when they're used."
   ]
  },
  {
   "cell_type": "code",
   "execution_count": null,
   "metadata": {},
   "outputs": [],
   "source": [
    "import os\n",
    "\n",
    "if 'COLAB_GPU' in os.environ:  # if we are in Google Colab...\n",
    "    !pip install algoesup --no-deps\n",
    "    !pip install allowed ruff"
   ]
  },
  {
   "cell_type": "code",
   "execution_count": 1,
   "metadata": {},
   "outputs": [],
   "source": [
    "# import functions to test the code and to measure the execution time\n",
    "from algoesup import test, time_functions_int"
   ]
  },
  {
   "cell_type": "markdown",
   "metadata": {},
   "source": [
    "The library also includes two commands to turn on the tools that will check the code as it's executed.\n",
    "There won't be any messages in this notebook because the code passes all checks."
   ]
  },
  {
   "cell_type": "code",
   "execution_count": 2,
   "metadata": {},
   "outputs": [
    {
     "name": "stdout",
     "output_type": "stream",
     "text": [
      "ruff was activated\n",
      "allowed was activated\n"
     ]
    }
   ],
   "source": [
    "%load_ext algoesup.magics\n",
    "# check the code for style violations\n",
    "%ruff on\n",
    "# check that only the subset of Python taught in our introductory course TM112 is used\n",
    "%allowed --config tm112.json on"
   ]
  },
  {
   "cell_type": "markdown",
   "metadata": {
    "cell_id": "7b98ae4e4fa5493aa7cf662ca5d93db7",
    "deepnote_cell_type": "markdown"
   },
   "source": [
    "## Tests\n",
    "\n",
    "Before thinking of a solution, it's best to write down some tests, as they help our understanding of the problem.\n",
    "Each test is the input integer *n* and the corresponding expected integer output 1 + 2 + ... + *n*.\n",
    "\n",
    "The tests should include **edge cases**: inputs that are extreme values or that lead to extreme outputs.\n",
    "For this problem, edge cases are when there are no integers to add up (*n* < 1) or when there's only one (*n* = 1).\n",
    "\n",
    "Tests should also include normal cases. When the input is an integer, tests typically include odd and even values.\n",
    "\n",
    "The `test` function that was imported in the previous cell expects the tests to be written as a table,\n",
    "e.g. as a list of lists. The table must have one row per test case. Each row has a column with a string describing the case, \n",
    "one column per input, and a final column with the expected output. "
   ]
  },
  {
   "cell_type": "code",
   "execution_count": 3,
   "metadata": {
    "cell_id": "3e5eddbf36b8420492a19172cc41b06d",
    "deepnote_cell_type": "code",
    "deepnote_to_be_reexecuted": false,
    "execution_millis": 40,
    "execution_start": 1699529654623,
    "source_hash": null
   },
   "outputs": [],
   "source": [
    "tests = [\n",
    "    # case            n,    sum\n",
    "    [\"no integers\",  -1,      0],\n",
    "    [\"one integer\",   1,      1],\n",
    "    [\"n is even\",     4,     10],  # 1 + 2 + 3 + 4 = 10\n",
    "    [\"n is odd\",      7,     28],  # 1 + 2 + 3 + 4 + 5 + 6 + 7 = 28\n",
    "]"
   ]
  },
  {
   "cell_type": "markdown",
   "metadata": {
    "cell_id": "bc67a75cb25b429a865f43062259402b",
    "deepnote_cell_type": "markdown"
   },
   "source": [
    "## Solutions\n",
    "The next step is to think of possible algorithms that solve the problem.\n",
    "\n",
    "### Using a loop\n",
    "The probably most obvious algorithm is to explicitly calculate the sum, \n",
    "by iterating over the integers from 1 to *n*. \n",
    "\n",
    "> **Algorithm 1**:\n",
    "> Set the total to zero. For each value from 1 to *n*, add the value to the total.\n",
    "> Return the total.\n",
    "\n",
    "The algorithm is implemented as follows."
   ]
  },
  {
   "cell_type": "code",
   "execution_count": 4,
   "metadata": {},
   "outputs": [],
   "source": [
    "def sum_with_loop(n):\n",
    "    \"\"\"Return 1 + 2 + ... + n, using a loop.\"\"\"\n",
    "    total = 0\n",
    "    for number in range(1, n + 1):\n",
    "        total = total + number\n",
    "    return total"
   ]
  },
  {
   "cell_type": "markdown",
   "metadata": {},
   "source": [
    "The next step is to check the code with the imported `test` function, which \n",
    "takes two arguments: the function to be tested and a test table.\n",
    "Every test case in the test table is checked and if the actual output isn't the expected output,\n",
    "the test is reported as having failed."
   ]
  },
  {
   "cell_type": "code",
   "execution_count": 5,
   "metadata": {},
   "outputs": [
    {
     "name": "stdout",
     "output_type": "stream",
     "text": [
      "Testing sum_with_loop...\n",
      "Tests finished: 4 passed, 0 failed.\n"
     ]
    }
   ],
   "source": [
    "test(sum_with_loop, tests)"
   ]
  },
  {
   "cell_type": "markdown",
   "metadata": {},
   "source": [
    "Algorithm 1 passes all tests.\n",
    "Since the algorithm does exactly what the problem asks for,\n",
    "the only test that could fail is for *n* < 1. However, in that case \n",
    "the loop is skipped and the returned total is zero, as desired."
   ]
  },
  {
   "cell_type": "markdown",
   "metadata": {},
   "source": [
    "### Using a formula\n",
    "It's possible to compute the sum directly, using a well-known formula, \n",
    "taught in many introductory math courses:\n",
    "\n",
    "1 + 2 + 3 + ... + (*n* - 2) + (*n* - 1) + *n* =\n",
    "(1 + n) + (2 + *n* - 1) + (3 + n - 2) + ... = \n",
    "(n + 1) · n / 2.\n",
    "\n",
    "The formula is based on 'pairing up' the first with the last number, \n",
    "the second with the next to last, and so on. Each pair adds up to *n* + 1,\n",
    "and the number of pairs is half of *n*. The algorithm is simply the formula:\n",
    "\n",
    "> **Algorithm 2**:\n",
    "> Return *n* · (*n*+1) / 2."
   ]
  },
  {
   "cell_type": "code",
   "execution_count": 6,
   "metadata": {},
   "outputs": [],
   "source": [
    "def sum_with_formula(n):\n",
    "    \"\"\"Return 1 + 2 + ... + n, using a formula.\"\"\"\n",
    "    return n * (n + 1) // 2"
   ]
  },
  {
   "cell_type": "markdown",
   "metadata": {},
   "source": [
    "This function is solving the same problem as the previous one, so it must be tested with the exact same tests."
   ]
  },
  {
   "cell_type": "code",
   "execution_count": 7,
   "metadata": {},
   "outputs": [
    {
     "name": "stdout",
     "output_type": "stream",
     "text": [
      "Testing sum_with_formula...\n",
      "Tests finished: 4 passed, 0 failed.\n"
     ]
    }
   ],
   "source": [
    "test(sum_with_formula, tests)"
   ]
  },
  {
   "cell_type": "markdown",
   "metadata": {},
   "source": [
    "The code passes the tests, and yet the algorithm is wrong! \n",
    "The formula is only meant for *n* ≥ 1. It just happens that if *n* = 0 or *n* = -1\n",
    "then *n* · (*n*+1) / 2 = 0, as desired, but for *n* < -1 the result is non-zero.\n",
    "An additional test helps confirm this."
   ]
  },
  {
   "cell_type": "code",
   "execution_count": 8,
   "metadata": {},
   "outputs": [
    {
     "name": "stdout",
     "output_type": "stream",
     "text": [
      "Testing sum_with_formula...\n",
      "n < -1 FAILED: 10 instead of 0\n",
      "Tests finished: 4 passed, 1 failed.\n"
     ]
    }
   ],
   "source": [
    "tests.append([\"n < -1\", -5, 0])  # testing with n = -5\n",
    "\n",
    "test(sum_with_formula, tests)"
   ]
  },
  {
   "cell_type": "markdown",
   "metadata": {},
   "source": [
    "The result is -5 · (–5 + 1) / 2 = -5 · -4 / 2 = 10 instead of zero. The algorithm must be modified.\n",
    "\n",
    "> **Algorithm 2 (corrected)**:\n",
    "> If *n* < 1, return 0, otherwise return *n* · (*n*+1) / 2."
   ]
  },
  {
   "cell_type": "code",
   "execution_count": 9,
   "metadata": {},
   "outputs": [
    {
     "name": "stdout",
     "output_type": "stream",
     "text": [
      "Testing sum_with_formula...\n",
      "Tests finished: 5 passed, 0 failed.\n"
     ]
    }
   ],
   "source": [
    "def sum_with_formula(n):\n",
    "    \"\"\"Return 1 + 2 + ... + n, using a formula.\"\"\"\n",
    "    if n < 1:\n",
    "        return 0\n",
    "    else:\n",
    "        return n * (n + 1) // 2\n",
    "\n",
    "test(sum_with_formula, tests)"
   ]
  },
  {
   "cell_type": "markdown",
   "metadata": {},
   "source": [
    "Now the additional test also passes. \n",
    "\n",
    "As a new test was added, the first algorithm must be tested again."
   ]
  },
  {
   "cell_type": "code",
   "execution_count": 10,
   "metadata": {},
   "outputs": [
    {
     "name": "stdout",
     "output_type": "stream",
     "text": [
      "Testing sum_with_loop...\n",
      "Tests finished: 5 passed, 0 failed.\n"
     ]
    }
   ],
   "source": [
    "test(sum_with_loop, tests)"
   ]
  },
  {
   "cell_type": "markdown",
   "metadata": {
    "cell_id": "78fb397c0b6240afa073d571ee2abd7d",
    "deepnote_cell_type": "markdown"
   },
   "source": [
    "## Performance\n",
    "\n",
    "The final, optional, step is to compare the performance of both solutions to see which is fastest.\n",
    "For this problem, the second algorithm is expected to be faster that the first one, \n",
    "as it computes the sum directly, without iterating over *n* integers.\n",
    "\n",
    "The `time_functions_int` function, which was imported in the first cell,\n",
    "takes a list of functions that have a single integer *n* as input, \n",
    "and measures their run-times for *n* = 1, 2, 4, 8, ..., 1024.\n",
    "Doubling the input allows to see any trends in how run-times grow\n",
    "with just eleven executions of the two functions.\n",
    "Running the functions with *n* = 1, 2, 3, 4, 5, ..., 1024 would take much longer and \n",
    "not produce any additional insight."
   ]
  },
  {
   "cell_type": "code",
   "execution_count": 11,
   "metadata": {
    "cell_id": "67da094aa17147929edfcdd47cce2278",
    "deepnote_cell_type": "code",
    "deepnote_to_be_reexecuted": false,
    "execution_millis": 322,
    "execution_start": 1699531697001,
    "source_hash": null
   },
   "outputs": [
    {
     "name": "stdout",
     "output_type": "stream",
     "text": [
      "Inputs generated by int_value\n",
      "\n",
      "Input value   sum_with_loop sum_with_formul \n",
      "          1           151.1            87.3 ns\n",
      "          2           178.9            87.5 ns\n",
      "          4           209.2            87.6 ns\n",
      "          8           278.3            88.1 ns\n",
      "         16           401.5            94.6 ns\n",
      "         32           701.0            99.0 ns\n",
      "         64          1359.7            99.2 ns\n",
      "        128          2610.7            99.2 ns\n",
      "        256          5144.2           102.8 ns\n",
      "        512         11148.8           102.8 ns\n",
      "       1024         23216.0           102.7 ns"
     ]
    },
    {
     "data": {
      "image/png": "[encoded data removed]",
      "text/plain": [
       "<Figure size 640x480 with 1 Axes>"
      ]
     },
     "metadata": {},
     "output_type": "display_data"
    }
   ],
   "source": [
    "time_functions_int([sum_with_loop, sum_with_formula])"
   ]
  },
  {
   "cell_type": "markdown",
   "metadata": {},
   "source": [
    "Computing the sum with the formula always takes about the same time,\n",
    "around 90 to 100 nanoseconds (that's what the 'ns' means).\n",
    "However, the run-times for the sum with the loop grow as *n* gets larger.\n",
    "If the value of *n* doubles, the number of iterations also doubles,\n",
    "so the run-time also roughly doubles, as can be seen above the chart.\n",
    "As *n* increases, the iterative sum gets slower and slower.\n",
    "At *n* = 1024, using a loop is about 200 times slower than using the formula!"
   ]
  },
  {
   "cell_type": "markdown",
   "metadata": {
    "cell_id": "1ca2354465894abe8c309bae32b51ddd",
    "deepnote_cell_type": "markdown"
   },
   "source": [
    "## Concluding remarks\n",
    "This essay presented two solutions to a simple problem: computing the sum 1 + ... + *n*, \n",
    "for any integer *n*. The sum should be zero if *n* < 1.\n",
    "\n",
    "The first solution computes the sum iteratively, while the second computes it directly,\n",
    "with a formula. The second is always faster, even for *n* = 1.\n",
    "Moreover, as *n* increases, the first approach becomes slower whereas\n",
    "the second always takes about the same time.\n",
    "\n",
    "This essay illustrates the need for thinking about different algorithms for \n",
    "the same problem, as one approach may be much more efficient than others.\n",
    "\n",
    "The essay also showed that passing all tests doesn't mean that the code is correct.\n",
    "As the various algorithms are developed, new tests may have to be added."
   ]
  }
 ],
 "metadata": {
  "author": "Michel Wermelinger",
  "deepnote": {},
  "deepnote_execution_queue": [],
  "deepnote_notebook_id": "21e54d45f4eb45dfa6760cf6f247e560",
  "deepnote_persisted_session": {
   "createdAt": "2023-11-09T13:18:09.716Z"
  },
  "jupytext": {
   "formats": "ipynb,src//md",
   "notebook_metadata_filter": "author",
   "text_representation": {
    "extension": ".md",
    "format_name": "markdown",
    "format_version": "1.2",
    "jupytext_version": "1.5.2"
   }
  },
  "kernelspec": {
   "display_name": "Python 3",
   "language": "python",
   "name": "python3"
  },
  "language_info": {
   "codemirror_mode": {
    "name": "ipython",
    "version": 3
   },
   "file_extension": ".py",
   "mimetype": "text/x-python",
   "name": "python",
   "nbconvert_exporter": "python",
   "pygments_lexer": "ipython3",
   "version": "3.10.11"
  }
 },
 "nbformat": 4,
 "nbformat_minor": 0
}
