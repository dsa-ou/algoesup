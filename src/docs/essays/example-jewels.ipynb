{
 "cells": [
  {
   "attachments": {},
   "cell_type": "markdown",
   "metadata": {
    "cell_id": "7d5cdec1dd5543618a0bb661ad996a41",
    "deepnote_cell_type": "markdown"
   },
   "source": [
    "# Jewels and Stones\n",
    "\n",
    "*Michel Wermelinger*, 23 January 2024, last updated 13 March 2024"
   ]
  },
  {
   "attachments": {},
   "cell_type": "markdown",
   "metadata": {},
   "source": [
    "In this example [algorithmic essay](https://dsa-ou.github.io/algoesup) I will tackle LeetCode problem [Jewels and Stones](https://leetcode.com/problems/jewels-and-stones/).\n",
    "The inputs are two strings _jewels_ and _stones_, where each character represents a type of stone, \n",
    "e.g. `A` for amethyst, `D` for diamond, `b` for basalt and `?` for an unknown stone.\n",
    "The _jewels_ string contains the characters that represent jewels, without repetition. \n",
    "The desired output is the number of stones that are jewels. \n",
    "For example, if _jewels_ is `\"AD\"` and _stones_ is `\"b?AbDAb\"` then the output is 3 \n",
    "because three of the stones are jewels (two amethysts and one diamond).\n",
    "To be clear, which stones and jewels the characters represent doesn't really matter:\n",
    "the output is simply how many characters of the second string occur in the first string.\n",
    "\n",
    "This essay will illustrate a **space-time trade-off**: \n",
    "by using an additional data structure, we get a faster algorithm.\n",
    "I assume you're familiar with sets, bags (multisets) and basic complexity analysis.\n",
    "This essay uses Big-Theta notation Θ(...), but if you're not familiar with it,\n",
    "you can read it as Big-Oh notation O(...) for the purposes of the analyses done below.\n",
    "Sorting, binary search, and log-linear and logarithmic complexities are mentioned in Section 2.3, \n",
    "but you can skip it, as it won't affect the understanding of the rest of the essay.\n",
    "\n",
    "Before starting to solve the problem, I import the necessary functions from `algoesup`,\n",
    "the algorithmic essays support library, and turn on the tools that will check my code\n",
    "for style and type violations (with [Ruff](https://astral.sh/ruff) and [pytype](https://google.github.io/pytype)), and \n",
    "for constructs I didn't teach (with [allowed](https://dsa-ou.github.io/allowed))."
   ]
  },
  {
   "cell_type": "code",
   "execution_count": 1,
   "metadata": {},
   "outputs": [],
   "source": [
    "import os\n",
    "\n",
    "if 'COLAB_GPU' in os.environ:  # if we are in Google Colab...\n",
    "    !pip install algoesup --no-deps\n",
    "    !pip install allowed ruff pytype"
   ]
  },
  {
   "cell_type": "code",
   "execution_count": 2,
   "metadata": {},
   "outputs": [],
   "source": [
    "from algoesup import test, time_cases, time_functions"
   ]
  },
  {
   "cell_type": "code",
   "execution_count": 3,
   "metadata": {},
   "outputs": [
    {
     "name": "stdout",
     "output_type": "stream",
     "text": [
      "ruff was activated\n",
      "pytype was activated\n",
      "allowed was activated\n"
     ]
    }
   ],
   "source": [
    "%load_ext algoesup.magics\n",
    "%ruff on\n",
    "%pytype on\n",
    "%allowed on"
   ]
  },
  {
   "attachments": {},
   "cell_type": "markdown",
   "metadata": {
    "cell_id": "7b98ae4e4fa5493aa7cf662ca5d93db7",
    "deepnote_cell_type": "markdown"
   },
   "source": [
    "## 1 Tests\n",
    "\n",
    "Before thinking of any solution, I write down some tests. Each test is two input strings and the expected integer output. \n",
    "I need to think of **edge cases**: inputs that are extreme values or that lead to extreme outputs.\n",
    "\n",
    "For this problem, one edge case is that none of the stones is a jewel, which can happen in several ways: \n",
    "there are no stones; there are no jewels; there are stones and jewels but no character in _stones_ occurs in _jewels_. \n",
    "Note that the problem statement doesn't prevent the strings to be empty, so we must assume they may be. \n",
    "\n",
    "Another edge case is that all stones are jewels, which again can happen in several ways: \n",
    "the two input strings are the same; all stones are the same jewel; each stone is a jewel but not all jewels are among the stones.\n",
    "\n",
    "Besides the edge cases I must also consider normal cases, where the stones include jewels and non-jewels \n",
    "and where the stones don't appear in the same order as the jewels.\n",
    "\n",
    "I write the tests succinctly as a table, with one row per test, and one column with a string describing the test, \n",
    "one column per input, and a final column with the expected output. \n",
    "Later, I will use a function from `algoesup` to run all the tests and report those\n",
    "where the actual outputs differ from the expected ones."
   ]
  },
  {
   "cell_type": "code",
   "execution_count": 4,
   "metadata": {
    "cell_id": "3e5eddbf36b8420492a19172cc41b06d",
    "deepnote_cell_type": "code",
    "deepnote_to_be_reexecuted": false,
    "execution_millis": 40,
    "execution_start": 1699529654623,
    "source_hash": null
   },
   "outputs": [],
   "source": [
    "# don't allow code formatters to change this table\n",
    "# fmt: off\n",
    "tests = [\n",
    "    # case                  jewels  stones  output\n",
    "    (\"no jewels\",           \"\",     \"abc\",      0),\n",
    "    (\"no stones\",           \"DA\",   \"\",         0),\n",
    "    (\"both empty\",          \"\",     \"\",         0),\n",
    "    (\"none is a jewel\",     \"DA\",   \"dada?\",    0),\n",
    "    (\"equal strings\",       \"DA\",   \"DA\",       2),\n",
    "    (\"all same jewel\",      \"DA\",   \"AAAA\",     4),\n",
    "    (\"some jewels missing\", \"DARJ\", \"RRD\",      3),\n",
    "    (\"some not jewels\",     \"RAD\",  \"bRADAb\",   4),\n",
    "]\n",
    "# allow code formatters to change the following cells\n",
    "# fmt: on"
   ]
  },
  {
   "attachments": {},
   "cell_type": "markdown",
   "metadata": {
    "cell_id": "bc67a75cb25b429a865f43062259402b",
    "deepnote_cell_type": "markdown"
   },
   "source": [
    "## 2 Algorithms\n",
    "Next I think of possible algorithms and their complexity, to decide which ones are worth implementing.\n",
    "\n",
    "### 2.1 Without additional data\n",
    "I first attempt to solve the problem directly on the input strings.\n",
    "One approach that comes to mind is to count how often each jewel occurs among the stones.\n",
    "\n",
    "> **Algorithm 1**:\n",
    "> Set a counter to zero. For each jewel, iterate over the stones.\n",
    "> If a stone is the same as the current jewel, increment the counter.\n",
    "> After going through all jewels, return the counter.\n",
    "\n",
    "If *j* is the number of jewels and *s* the number of stones, then this algorithm always\n",
    "has complexity *j* × Θ(*s*) = Θ(*j* × *s*) because it does at most two constant-time operations,\n",
    "checking equality and incrementing the counter, for each jewel and stone.\n",
    "\n",
    "The first approach searches each jewel among the stones. \n",
    "The symmetric approach is to search each stone among the jewels:\n",
    "\n",
    "> **Algorithm 2**:\n",
    "> Set a counter to zero. For each stone, do a linear search for it among the jewels.\n",
    "> If it is found, increment the counter.\n",
    "> After going through all stones, return the counter.\n",
    "\n",
    "In the best case, each stone is the first jewel, and the search takes constant time.\n",
    "The best-case complexity is *s* × Θ(1) = Θ(*s*).\n",
    "In the worst case, the search goes through all the jewels, because the stone isn't a jewel\n",
    "or is the last jewel. The worst-case complexity is *s* × Θ(*j*) = Θ(*s* × *j*)."
   ]
  },
  {
   "attachments": {},
   "cell_type": "markdown",
   "metadata": {
    "cell_id": "81f46bc72b784411aa692416eb1f54ba",
    "deepnote_cell_type": "markdown"
   },
   "source": [
    "### 2.2 With additional data\n",
    "My next attempts consider pre-processing the inputs to make the searches faster.\n",
    "\n",
    "Algorithm 1 goes through the stones *j* times, each time counting how often a jewel occurs.\n",
    "It's more efficient to go through the stones only once, \n",
    "counting how often each stone occurs, and then add the counts of those that are jewels.\n",
    "We need to know the frequency of each stone and the natural data type for that is the bag (or multiset).\n",
    "\n",
    "> **Algorithm 3**:\n",
    "> Put all stones in a bag. Initialise a counter to zero.\n",
    "> For each jewel, add to the counter the frequency of that jewel in the bag.\n",
    "> Return the value of the counter.\n",
    "\n",
    "If the bag type is implemented efficiently, both adding an item and obtaining its frequency take constant time.\n",
    "The complexity of Algorithm 3 is thus *s* × Θ(1) + *j* × Θ(1) = Θ(*s* + *j*).\n",
    "\n",
    "Algorithm 2 checks if each stone is a jewel.\n",
    "Is there an abstract data type (ADT) that provides such an operation?\n",
    "Yes, the set ADT allows checking if an item is a member of a set, which leads to...\n",
    "\n",
    "> **Algorithm 4**:\n",
    "> Put all jewels in a set. Initialise a counter to zero.\n",
    "> For each stone, if it is a member of the set, increment the counter.\n",
    "> Return the value of the counter.\n",
    "\n",
    "If the set ADT is implemented efficiently, both adding an item and checking membership take constant time.\n",
    "The complexity of Algorithm 4 is thus *j* × Θ(1) + *s* × Θ(1) = Θ(*j* + *s*)."
   ]
  },
  {
   "attachments": {},
   "cell_type": "markdown",
   "metadata": {
    "cell_id": "9df33fc3679a43f5b574463b0a380b0d",
    "deepnote_cell_type": "markdown"
   },
   "source": [
    "### 2.3 With sorting\n",
    "The order of jewels and stones in the input strings doesn't affect the output (the number of stones that are jewels). \n",
    "I can thus sort the jewels, the stones, or both, to use logarithmic binary search instead of linear search.\n",
    "\n",
    "However, sorting takes linear time in the best case and log-linear or quadratic time in the worst case.\n",
    "I already have algorithms that are linear in the total size of the input, so sorting wouldn't be more efficient.\n",
    "I therefore do not further pursue this approach."
   ]
  },
  {
   "attachments": {},
   "cell_type": "markdown",
   "metadata": {
    "cell_id": "2c858580cf5c4277aba1dbd481cb79db",
    "deepnote_cell_type": "markdown"
   },
   "source": [
    "### 2.4 Summary\n",
    "Algorithms 1 and 2 don't use additional memory, but have complexity Θ(*j* × *s*),\n",
    "while Algorithms 3 and 4 have better complexity Θ(*j* + *s*), \n",
    "but have the run-time and memory overhead of an additional data structure.\n",
    "In practice, Algorithms 3 and 4 might be slower than Algorithms 1 and 2, so it's best to implement all of them.\n",
    "\n",
    "However, Algorithm 1 *always* takes Θ(*j* × *s*) whereas Algorithm 2 only does so in the worst case.\n",
    "I therefore won't implement Algorithm 1.\n",
    "\n",
    "Algorithm 3 creates a set with *j* jewels, whereas Algorithm 4 creates a bag with *s* stones.\n",
    "Typically, we expect inputs to have more stones than jewels (*j* < *s*), so Algorithm 3 is likely to be faster.\n",
    "Nevertheless, I'll implement Algorithm 4 too, for comparison."
   ]
  },
  {
   "attachments": {},
   "cell_type": "markdown",
   "metadata": {
    "cell_id": "c6a90d85a7514494858ad7faa04ecf39",
    "deepnote_cell_type": "markdown"
   },
   "source": [
    "## 3 Code\n",
    "The next function implements Algorithm 2, using Python's `in` operator to do the linear search."
   ]
  },
  {
   "cell_type": "code",
   "execution_count": 5,
   "metadata": {
    "cell_id": "b89e854b6f8741f590146aaea754fb9c",
    "deepnote_cell_type": "code",
    "deepnote_to_be_reexecuted": false,
    "execution_millis": 15,
    "execution_start": 1699529654658,
    "source_hash": null
   },
   "outputs": [
    {
     "name": "stdout",
     "output_type": "stream",
     "text": [
      "Testing count_in_string...\n",
      "Tests finished: 8 passed, 0 failed.\n"
     ]
    }
   ],
   "source": [
    "def count_in_string(jewels: str, stones: str) -> int:\n",
    "    \"\"\"Return the number of characters in `stones` that are in `jewels`.\n",
    "\n",
    "    Use Algorithm 2: for each stone, check if it's a jewel.\n",
    "    Complexity: best Θ(len(stones)); worst Θ(len(stones) * len(jewels))\n",
    "    \"\"\"\n",
    "    counter = 0\n",
    "    for stone in stones:\n",
    "        if stone in jewels:\n",
    "            counter = counter + 1\n",
    "    return counter\n",
    "\n",
    "\n",
    "# test(function, test_table) runs `function` on each test in `test_table`\n",
    "# and prints the tests that fail (actual output isn't the expected output).\n",
    "test(count_in_string, tests)"
   ]
  },
  {
   "attachments": {},
   "cell_type": "markdown",
   "metadata": {
    "cell_id": "60a32d96b657415c99fd5709bcac2bbc",
    "deepnote_cell_type": "markdown"
   },
   "source": [
    "The implementation of Algorithm 2 passes all tests.\n",
    "Next, Algorithm 3 can be implemented with Python's [`Counter` class](https://docs.python.org/3/library/collections.html#collections.Counter)."
   ]
  },
  {
   "cell_type": "code",
   "execution_count": 6,
   "metadata": {
    "cell_id": "2466e44a4af849bd88140c170d06a83e",
    "deepnote_cell_type": "code",
    "deepnote_to_be_reexecuted": false,
    "execution_millis": 12,
    "execution_start": 1699529654659,
    "source_hash": null
   },
   "outputs": [
    {
     "name": "stdout",
     "output_type": "stream",
     "text": [
      "Testing count_in_bag...\n",
      "Tests finished: 8 passed, 0 failed.\n"
     ]
    }
   ],
   "source": [
    "from collections import Counter\n",
    "\n",
    "\n",
    "def count_in_bag(jewels: str, stones: str) -> int:\n",
    "    \"\"\"Return the number of characters in `stones` that are in `jewels`.\n",
    "\n",
    "    Use Algorithm 3: put stones in a bag; add the frequencies of those that are jewels.\n",
    "    Complexity: Θ(len(stones) + len(jewels))\n",
    "    \"\"\"\n",
    "    bag = Counter(stones)\n",
    "    counter = 0\n",
    "    for jewel in jewels:\n",
    "        counter = counter + bag[jewel]\n",
    "    return counter\n",
    "\n",
    "\n",
    "test(count_in_bag, tests)"
   ]
  },
  {
   "attachments": {},
   "cell_type": "markdown",
   "metadata": {
    "cell_id": "f3bba3fdc95e4b0a809fa36c6920c2f6",
    "deepnote_cell_type": "markdown",
    "deepnote_to_be_reexecuted": false,
    "execution_millis": 287,
    "execution_start": 1697457953312,
    "source_hash": null
   },
   "source": [
    "Finally, Algorithm 4 can be implemented with Python's built-in [`set` type](https://docs.python.org/3/library/stdtypes.html#set)."
   ]
  },
  {
   "cell_type": "code",
   "execution_count": 7,
   "metadata": {
    "cell_id": "5140e2402ed7414189e53b438d681e57",
    "deepnote_cell_type": "code",
    "deepnote_to_be_reexecuted": false,
    "execution_millis": 28,
    "execution_start": 1699529654678,
    "source_hash": null
   },
   "outputs": [
    {
     "name": "stdout",
     "output_type": "stream",
     "text": [
      "Testing count_in_set...\n",
      "Tests finished: 8 passed, 0 failed.\n"
     ]
    }
   ],
   "source": [
    "def count_in_set(jewels: str, stones: str) -> int:\n",
    "    \"\"\"Return the number of characters in `stones` that are in `jewels`.\n",
    "\n",
    "    Use Algorithm 4: put jewels in a set; count the stones that are in the set.\n",
    "    Complexity: Θ(len(jewels) + len(stones))\n",
    "    \"\"\"\n",
    "    jewel_set = set(jewels)\n",
    "    counter = 0\n",
    "    for stone in stones:\n",
    "        if stone in jewel_set:\n",
    "            counter = counter + 1\n",
    "    return counter\n",
    "\n",
    "\n",
    "test(count_in_set, tests)"
   ]
  },
  {
   "attachments": {},
   "cell_type": "markdown",
   "metadata": {
    "cell_id": "78fb397c0b6240afa073d571ee2abd7d",
    "deepnote_cell_type": "markdown"
   },
   "source": [
    "## 4 Performance\n",
    "\n",
    "Finally, I will measure the run-times of the above functions with the `algoesup` library.\n",
    "The library expects us to define functions that construct inputs for a given total size."
   ]
  },
  {
   "attachments": {},
   "cell_type": "markdown",
   "metadata": {},
   "source": [
    "### 4.1 Generating inputs\n",
    "This problem has two inputs, so I must decide how to divide the total size among both strings.\n",
    "I'll divide it equally: *s* = *j*. (For odd *n*, *s* = *j* + 1.)\n",
    "In that way, the expected run-times will be linear or quadratic in *s*:\n",
    "Θ(*s* + *j*) = Θ(2*s*) = Θ(*s*) or Θ(*s* × *j*) = Θ(*s*²).\n",
    "This makes it easy to check them empirically.\n",
    "\n",
    "I write a function to generate a best-case input: each stone is the first jewel.\n",
    "To generate the input strings, I use Python's built-in `chr` function to obtain a character, given its Unicode number.\n",
    "The first 31 characters are mostly unprintable control characters, so I start at code 32 (space character)."
   ]
  },
  {
   "cell_type": "code",
   "execution_count": 8,
   "metadata": {
    "cell_id": "f7cec1b9b4bc4fa689d9543431b4f33e",
    "deepnote_cell_type": "code",
    "deepnote_to_be_reexecuted": false,
    "execution_millis": 23,
    "execution_start": 1699529654679,
    "source_hash": null
   },
   "outputs": [
    {
     "data": {
      "text/markdown": [
       "**allowed** found issues:\n",
       "\n",
       "- 14: chr()"
      ]
     },
     "metadata": {},
     "output_type": "display_data"
    }
   ],
   "source": [
    "def best_case(size: int) -> tuple[str, str]:\n",
    "    \"\"\"Return a best-case input (pair of strings) of the given size.\n",
    "\n",
    "    Output: (jewels, stones) with\n",
    "    - len(jewels) + len(stones) == size, with each string half the size\n",
    "    - jewels has no duplicate characters\n",
    "    - all stones are jewels[0]\n",
    "    \"\"\"\n",
    "    j = size // 2\n",
    "    s = size - j\n",
    "    # create a string with j different characters (Unicode 32 onwards)\n",
    "    jewels = \"\"\n",
    "    for code in range(32, 32 + j):\n",
    "        jewels = jewels + chr(code)\n",
    "    # create a string with s spaces (Unicode 32), the first character in jewels\n",
    "    stones = \" \" * s\n",
    "    return (jewels, stones)"
   ]
  },
  {
   "attachments": {},
   "cell_type": "markdown",
   "metadata": {},
   "source": [
    "Note that the `allowed` tool reports that I haven't taught my students the `chr` function.\n",
    "That's why I explained it before presenting the code.\n",
    "\n",
    "Moving on, I write some tests, to check that `best_case` is generating the right strings."
   ]
  },
  {
   "cell_type": "code",
   "execution_count": 9,
   "metadata": {},
   "outputs": [
    {
     "name": "stdout",
     "output_type": "stream",
     "text": [
      "Testing best_case...\n",
      "Tests finished: 3 passed, 0 failed.\n"
     ]
    }
   ],
   "source": [
    "# fmt: off\n",
    "test(best_case, [\n",
    "    # case,           size, (jewels, stones)\n",
    "    (\"empty strings\", 0,    (\"\",     \"\")),\n",
    "    (\"no jewels\",     1,    (\"\",     \" \")),\n",
    "    (\"odd size\",      5,    (' !',   \"   \")),\n",
    "])\n",
    "# fmt: on"
   ]
  },
  {
   "attachments": {},
   "cell_type": "markdown",
   "metadata": {},
   "source": [
    "To generate a worst case, I have two options: \n",
    "no stone is a jewel or all stones are the last jewel (Unicode 31 + *j*).\n",
    "I choose the first one. (Spoiler alert: I made the wrong choice. Can you see why?)"
   ]
  },
  {
   "cell_type": "code",
   "execution_count": 10,
   "metadata": {},
   "outputs": [
    {
     "name": "stdout",
     "output_type": "stream",
     "text": [
      "Testing worst_case...\n",
      "Tests finished: 3 passed, 0 failed.\n"
     ]
    }
   ],
   "source": [
    "def worst_case(size: int) -> tuple[str, str]:\n",
    "    \"\"\"Return a worst-case input (pair of strings) of the given size.\n",
    "\n",
    "    Output: (jewels, stones) with\n",
    "    - len(jewels) + len(stones) == size, with each string half the size\n",
    "    - jewels has no duplicate characters\n",
    "    - no stone is a jewel\n",
    "    \"\"\"\n",
    "    j = size // 2\n",
    "    s = size - j\n",
    "    # create a string with j different characters (Unicode 32 onwards)\n",
    "    jewels = \"\"\n",
    "    for code in range(32, 32 + j):\n",
    "        jewels = jewels + chr(code)  # allowed\n",
    "    # create a string with s different characters (Unicode 32+j onwards)\n",
    "    stones = \"\"\n",
    "    for code in range(32 + j, 32 + j + s):\n",
    "        stones = stones + chr(code)  # allowed\n",
    "    return (jewels, stones)\n",
    "\n",
    "\n",
    "# fmt: off\n",
    "test(worst_case, [\n",
    "    # case,           size, (jewels,    stones)\n",
    "    (\"empty strings\", 0,    (\"\",        \"\")),\n",
    "    (\"no jewels\",     1,    (\"\",        \" \")),\n",
    "    (\"odd size\",      11,   (' !\"#$',   \"%&'()*\")),  # 5 jewels, 6 stones\n",
    "])\n",
    "# fmt: on"
   ]
  },
  {
   "attachments": {},
   "cell_type": "markdown",
   "metadata": {},
   "source": [
    "The `# allowed` comment in lines 14 and 18 tells the tool that `chr()` is allowed,\n",
    "because it was explained, and hence should not be reported.\n",
    "\n",
    "Finally I generate random typical cases in which not all stones are jewels and not all jewels occur in the stones."
   ]
  },
  {
   "cell_type": "code",
   "execution_count": 11,
   "metadata": {},
   "outputs": [
    {
     "name": "stdout",
     "output_type": "stream",
     "text": [
      "Some stones are jewels: True\n",
      "Some stones aren't jewels: True\n"
     ]
    }
   ],
   "source": [
    "import random\n",
    "\n",
    "\n",
    "def normal_case(size: int) -> tuple[str, str]:\n",
    "    \"\"\"Return a typical input (pair of strings) of the given size.\n",
    "\n",
    "    Output: (jewels, stones) with\n",
    "    - len(jewels) + len(stones) == size, with each string half the size\n",
    "    - jewels has no duplicate characters\n",
    "    - stones has some jewels and some non-jewels, if len(jewels) > 1\n",
    "    - not all jewels occur in stones, if len(jewels) > 1\n",
    "    \"\"\"\n",
    "    j = size // 2\n",
    "    s = size - j\n",
    "    # create a string with j different characters (Unicode 32 onwards)\n",
    "    jewels = \"\"\n",
    "    for code in range(32, 32 + j):\n",
    "        jewels = jewels + chr(code)  # allowed\n",
    "    # create a string with s random characters from Unicode 33 to 33 + 2j\n",
    "    stones = \"\"\n",
    "    for _ in range(s):\n",
    "        stones = stones + chr(random.randint(33, 33 + 2 * j))  # allowed\n",
    "    return (jewels, stones)\n",
    "\n",
    "\n",
    "# Can't test with a test table, because the output is random.\n",
    "(jewels, stones) = normal_case(20)\n",
    "counter = count_in_string(jewels, stones)\n",
    "print(\"Some stones are jewels:\", counter > 0)\n",
    "print(\"Some stones aren't jewels:\", counter < len(stones))"
   ]
  },
  {
   "attachments": {},
   "cell_type": "markdown",
   "metadata": {},
   "source": [
    "The loop variable's name is just an underscore (line 21) to avoid a warning that\n",
    "the loop variable isn't used in the loop's body."
   ]
  },
  {
   "attachments": {},
   "cell_type": "markdown",
   "metadata": {
    "cell_id": "d462054b87b048ce88e1358698f82f79",
    "deepnote_cell_type": "markdown"
   },
   "source": [
    "### 4.2 Best, normal and worst run-times\n",
    "Algorithms 3 and 4 always have the same complexity, but not so for Algorithm 2.\n",
    "I can measure its run-times on best, typical and worst cases, using the library's `time_cases`.\n",
    "I start with an input size of 10 and double it four times to 20, 40, 80 and 160."
   ]
  },
  {
   "cell_type": "code",
   "execution_count": 12,
   "metadata": {
    "cell_id": "67da094aa17147929edfcdd47cce2278",
    "deepnote_cell_type": "code",
    "deepnote_to_be_reexecuted": false,
    "execution_millis": 322,
    "execution_start": 1699531697001,
    "source_hash": null
   },
   "outputs": [
    {
     "name": "stdout",
     "output_type": "stream",
     "text": [
      "Run-times for count_in_string\n",
      "\n",
      "Input size       best_case     normal_case      worst_case \n",
      "        10           202.6           198.2           155.0 ns\n",
      "        20           337.8           324.3           299.8 ns\n",
      "        40           596.3           550.1           425.1 ns\n",
      "        80          1088.7          1043.6           796.5 ns\n",
      "       160          2071.6          2272.3          1558.1 ns"
     ]
    }
   ],
   "source": [
    "cases = [best_case, normal_case, worst_case]\n",
    "time_cases(count_in_string, cases, start=10, double=4)"
   ]
  },
  {
   "attachments": {},
   "cell_type": "markdown",
   "metadata": {
    "cell_id": "b9894d7114b0477eae502e685edcfc03",
    "deepnote_cell_type": "markdown"
   },
   "source": [
    "The results are baffling: the worst case is the fastest! \n",
    "\n",
    "The linear search is done with the `in` operator, which is much faster than implementing the search in Python.\n",
    "Due to the very small input sizes, with at most 80 jewels and 80 stones, it doesn't really matter \n",
    "whether the search stops at the first jewel or goes through all the jewels.\n",
    "\n",
    "Since the search takes about the same time in the best and worst cases,\n",
    "what makes the difference to the overall run-time is how often the counter is updated.\n",
    "In the best case (all stones are the first jewel) the counter is *always* incremented, \n",
    "whereas in the worst case (no stone is a jewel) the counter is *never* incremented.\n",
    "Hence, the worst case is faster than the best case.\n",
    "\n",
    "The real issue is that I'm **not generating worst cases**.\n",
    "I'm not constructing inputs that make Algorithm 2 do the most work. A worst case should \n",
    "make the linear search go through all the jewels *and* increment the counter for each one.\n",
    "The worst case is actually when all stones are the last jewel.\n",
    "\n",
    "I should go back, modify the `worst_case` function so that `stones = chr(31 + j) * s`, \n",
    "and run again the previous cell. Instead, I will run `count_in_string` on larger inputs.\n",
    "That will avoid the search taking about the same time whether a stone is the first jewel or not a jewel.\n",
    "This time I also ask for a graphical output."
   ]
  },
  {
   "cell_type": "code",
   "execution_count": 13,
   "metadata": {
    "allow_embed": false,
    "cell_id": "35b9365978f64862846cb4cc3bfa732c",
    "deepnote_cell_type": "code",
    "deepnote_to_be_reexecuted": false,
    "execution_millis": 30823,
    "execution_start": 1699531763381,
    "source_hash": null
   },
   "outputs": [
    {
     "name": "stdout",
     "output_type": "stream",
     "text": [
      "Run-times for count_in_string\n",
      "\n",
      "Input size       best_case     normal_case      worst_case \n",
      "      1000            14.6            34.7            35.4 µs\n",
      "      2000            30.3           107.4           116.4 µs\n",
      "      4000            61.4           332.3           386.1 µs\n",
      "      8000           123.6          1112.0          1359.6 µs\n",
      "     16000           248.5          3979.9          5061.5 µs"
     ]
    },
    {
     "data": {
      "image/png": "[encoded data removed]",
      "text/plain": [
       "<Figure size 640x480 with 1 Axes>"
      ]
     },
     "metadata": {},
     "output_type": "display_data"
    }
   ],
   "source": [
    "time_cases(count_in_string, cases, start=1000, double=4, chart=True)"
   ]
  },
  {
   "attachments": {},
   "cell_type": "markdown",
   "metadata": {
    "cell_id": "9f687a61d6a44aa1855ced4ff70c3fe2",
    "deepnote_cell_type": "markdown"
   },
   "source": [
    "The best-case run-times double as the input size doubles, confirming the linear complexity.\n",
    "The worst-case run-times about quadruple as the input size doubles, confirming the quadratic complexity."
   ]
  },
  {
   "attachments": {},
   "cell_type": "markdown",
   "metadata": {},
   "source": [
    "## 4.3 Fastest and slowest algorithm\n",
    "The library provides `time_functions` to measure the run-times of up to 6 functions on the same inputs.\n",
    "I run the three implemented algorithms on typical inputs, with the same sizes as before."
   ]
  },
  {
   "cell_type": "code",
   "execution_count": 14,
   "metadata": {
    "cell_id": "d952ffa1b3ac4fcebd116e81bbd5c086",
    "deepnote_cell_type": "code",
    "deepnote_to_be_reexecuted": false,
    "execution_millis": 32112,
    "execution_start": 1699533409629,
    "source_hash": null
   },
   "outputs": [
    {
     "name": "stdout",
     "output_type": "stream",
     "text": [
      "Inputs generated by normal_case\n",
      "\n",
      "Input size count_in_string    count_in_set    count_in_bag \n",
      "      1000            36.6            36.6            67.6 µs\n",
      "      2000           111.4            89.2           147.5 µs\n",
      "      4000           339.8           189.6           309.0 µs\n",
      "      8000          1124.1           411.1           633.5 µs\n",
      "     16000          4014.9           851.0          1297.3 µs"
     ]
    },
    {
     "data": {
      "image/png": "[encoded data removed]",
      "text/plain": [
       "<Figure size 640x480 with 1 Axes>"
      ]
     },
     "metadata": {},
     "output_type": "display_data"
    }
   ],
   "source": [
    "algorithms = [count_in_string, count_in_set, count_in_bag]\n",
    "time_functions(algorithms, normal_case, 1000, 4, chart=True)"
   ]
  },
  {
   "attachments": {},
   "cell_type": "markdown",
   "metadata": {
    "cell_id": "5e4e66073e5948ada2769753e54aedb5",
    "deepnote_cell_type": "markdown"
   },
   "source": [
    "As expected, using a set or bag pays off as the input size increases:\n",
    "as there are more jewels and stones, the linear search takes longer,\n",
    "but looking up a stone in a set of jewels or a jewel in a bag of stones takes constant time.\n",
    "However, for small inputs, a linear search is fast and hence \n",
    "the extra time to create the additional data structure doesn't pay off.\n",
    "\n",
    "Using a set of jewels is about twice as fast as using a bag of stones, maybe because\n",
    "`set` is built-in and implemented in C, a very fast language, whereas\n",
    "`Counter` is part of the standard library implemented in Python, which is much slower.\n",
    "This example shows that algorithms with the same complexity can perform differently in practice, \n",
    "because the complexity tells us how the run-times grow, but not how fast or slow they are."
   ]
  },
  {
   "attachments": {},
   "cell_type": "markdown",
   "metadata": {
    "cell_id": "1ca2354465894abe8c309bae32b51ddd",
    "deepnote_cell_type": "markdown"
   },
   "source": [
    "## 5 Concluding remarks\n",
    "This essay explored a simple problem: how many of the characters in a string occur in another string?\n",
    "There are at least 7 algorithms: 2 don't require any additional data structure,\n",
    "2 use a set or a bag to achieve constant-time searches, and 3 other sort one or both inputs.\n",
    "Three of the first four algorithms were implemented in Python and their run-times measured.\n",
    "Using a set is the best option: the complexity is the lowest possible (linear in the total size of the inputs),\n",
    "and the run-times are better than using a bag."
   ]
  }
 ],
 "metadata": {
  "author": "Michel Wermelinger",
  "deepnote": {},
  "deepnote_execution_queue": [],
  "deepnote_notebook_id": "21e54d45f4eb45dfa6760cf6f247e560",
  "deepnote_persisted_session": {
   "createdAt": "2023-11-09T13:18:09.716Z"
  },
  "jupytext": {
   "formats": "ipynb,src//md",
   "notebook_metadata_filter": "author",
   "text_representation": {
    "extension": ".md",
    "format_name": "markdown",
    "format_version": "1.2",
    "jupytext_version": "1.5.2"
   }
  },
  "kernelspec": {
   "display_name": "Python 3",
   "language": "python",
   "name": "python3"
  },
  "language_info": {
   "codemirror_mode": {
    "name": "ipython",
    "version": 3
   },
   "file_extension": ".py",
   "mimetype": "text/x-python",
   "name": "python",
   "nbconvert_exporter": "python",
   "pygments_lexer": "ipython3",
   "version": "3.10.11"
  }
 },
 "nbformat": 4,
 "nbformat_minor": 0
}
