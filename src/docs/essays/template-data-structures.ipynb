{
 "cells": [
  {
   "attachments": {},
   "cell_type": "markdown",
   "metadata": {},
   "source": [
    "This [algorithmic essay](https://dsa-ou.github.io/algoesup) template is for\n",
    "students of data structures and algorithms (DSA) courses.\n",
    "Throughout the template, there are links to relevant sections of our\n",
    "[Writing](https://dsa-ou.github.io/algoesup/writing) and\n",
    "[Coding](https://dsa-ou.github.io/algoesup/writing) Guide.\n",
    "Replace any text in italics by yours and delete this paragraph.\n",
    "\n",
    "# _Your essay's title_ \n",
    "\n",
    "_Your (and any co-author's) name_, _current date_"
   ]
  },
  {
   "attachments": {},
   "cell_type": "markdown",
   "metadata": {},
   "source": [
    "_The introduction explains what the essay is about, the problem you are solving, and what you assume the reader to know.\n",
    "See our guidance on \n",
    "[choosing a problem](https://dsa-ou.github.io/algoesup/writing/#problem),\n",
    "[writing the text](https://dsa-ou.github.io/algoesup/writing/#text) and\n",
    "[structuring the essay](https://dsa-ou.github.io/algoesup/writing/#structure).\n",
    "This template follows the first structure in the guide.\n",
    "You don't need to change the following code cells._"
   ]
  },
  {
   "cell_type": "code",
   "execution_count": null,
   "metadata": {},
   "outputs": [],
   "source": [
    "import os\n",
    "\n",
    "if 'COLAB_GPU' in os.environ:  # if we are in Google Colab...\n",
    "    !pip install algoesup --no-deps\n",
    "    !pip install allowed ruff pytype"
   ]
  },
  {
   "cell_type": "code",
   "execution_count": null,
   "metadata": {},
   "outputs": [],
   "source": [
    "from algoesup import test, time_cases, time_functions"
   ]
  },
  {
   "cell_type": "markdown",
   "metadata": {},
   "source": [
    "_For information on what the following commands do, see our guide's sections on\n",
    "[type checking](https://dsa-ou.github.io/algoesup/coding/#type-checking) and \n",
    "[linting](https://dsa-ou.github.io/algoesup/coding/#linting) and remove this paragraph._"
   ]
  },
  {
   "cell_type": "code",
   "execution_count": null,
   "metadata": {},
   "outputs": [],
   "source": [
    "%load_ext algoesup.magics\n",
    "# check the code's style\n",
    "%ruff on\n",
    "# check the data types\n",
    "%pytype on\n",
    "# optional: flag the Python constructs not taught in M269, our DSA course\n",
    "%allowed on"
   ]
  },
  {
   "attachments": {},
   "cell_type": "markdown",
   "metadata": {
    "cell_id": "7b98ae4e4fa5493aa7cf662ca5d93db7",
    "deepnote_cell_type": "markdown"
   },
   "source": [
    "## 1 Tests\n",
    "\n",
    "_This section describes and defines the tests you will use to check your solutions.\n",
    "See the [testing section](https://dsa-ou.github.io/algoesup/coding/#testing) of our guide._"
   ]
  },
  {
   "cell_type": "code",
   "execution_count": null,
   "metadata": {
    "cell_id": "3e5eddbf36b8420492a19172cc41b06d",
    "deepnote_cell_type": "code",
    "deepnote_to_be_reexecuted": false,
    "execution_millis": 40,
    "execution_start": 1699529654623,
    "source_hash": null
   },
   "outputs": [],
   "source": [
    "tests = [\n",
    "    # Each line is a list or tuple of the form:\n",
    "    # (description, input1, input2, ..., expected_output),\n",
    "]"
   ]
  },
  {
   "attachments": {},
   "cell_type": "markdown",
   "metadata": {
    "cell_id": "bc67a75cb25b429a865f43062259402b",
    "deepnote_cell_type": "markdown"
   },
   "source": [
    "## 2 Algorithms\n",
    "\n",
    "_This section outlines some algorithms that solve the problem.\n",
    "See the [algorithms section](https://dsa-ou.github.io/algoesup/writing/#algorithms) of our guide._\n",
    "\n",
    "### 2.1 _First algorithm name_\n",
    "\n",
    "_Describe your first strategy or approach._\n",
    "\n",
    "> **Algorithm 1**:\n",
    "> _Briefly describe your first algorithm._\n",
    "\n",
    "_Analyse at least the worst-case time complexity of your first algorithm._"
   ]
  },
  {
   "attachments": {},
   "cell_type": "markdown",
   "metadata": {},
   "source": [
    "### 2.2 _Second algorithm name_\n",
    "\n",
    "_Describe your second strategy or approach._\n",
    "\n",
    "> **Algorithm 2**:\n",
    "> _Briefly describe your second algorithm._\n",
    "\n",
    "_Analyse at least the worst-case time complexity of your second algorithm._"
   ]
  },
  {
   "attachments": {},
   "cell_type": "markdown",
   "metadata": {},
   "source": [
    "### 2._n_ _nth algorithm name_\n",
    "\n",
    "_Describe your nth strategy or approach._\n",
    "\n",
    "> **Algorithm n**:\n",
    "> _Briefly describe your nth algorithm._\n",
    "\n",
    "_Analyse at least the worst-case time complexity of your nth algorithm._"
   ]
  },
  {
   "attachments": {},
   "cell_type": "markdown",
   "metadata": {
    "cell_id": "2c858580cf5c4277aba1dbd481cb79db",
    "deepnote_cell_type": "markdown"
   },
   "source": [
    "### 2._n+1_ Summary\n",
    "\n",
    "_This section compares the previously outlined algorithms to inform implementation decisions._"
   ]
  },
  {
   "attachments": {},
   "cell_type": "markdown",
   "metadata": {
    "cell_id": "c6a90d85a7514494858ad7faa04ecf39",
    "deepnote_cell_type": "markdown"
   },
   "source": [
    "## 3 Code\n",
    "\n",
    "_This section implements and tests only the most promising algorithms.\n",
    "See the [code section](https://dsa-ou.github.io/algoesup/coding) of our guide._"
   ]
  },
  {
   "cell_type": "code",
   "execution_count": null,
   "metadata": {
    "cell_id": "b89e854b6f8741f590146aaea754fb9c",
    "deepnote_cell_type": "code",
    "deepnote_to_be_reexecuted": false,
    "execution_millis": 15,
    "execution_start": 1699529654658,
    "source_hash": null
   },
   "outputs": [],
   "source": [
    "# Replace solution_one with a more descriptive name.\n",
    "def solution_one():\n",
    "    # Implement your solution here\n",
    "    pass\n",
    "\n",
    "test(solution_one, tests)"
   ]
  },
  {
   "cell_type": "code",
   "execution_count": null,
   "metadata": {},
   "outputs": [],
   "source": [
    "# Replace solution_two with a more descriptive name.\n",
    "def solution_two():\n",
    "    # Implement your solution here\n",
    "    pass\n",
    "\n",
    "test(solution_two, tests)"
   ]
  },
  {
   "cell_type": "code",
   "execution_count": null,
   "metadata": {},
   "outputs": [],
   "source": [
    "# Replace solution_n with a more descriptive name.\n",
    "def solution_n():\n",
    "    # Implement your solution here\n",
    "    pass\n",
    "\n",
    "test(solution_n, tests)"
   ]
  },
  {
   "attachments": {},
   "cell_type": "markdown",
   "metadata": {
    "cell_id": "78fb397c0b6240afa073d571ee2abd7d",
    "deepnote_cell_type": "markdown"
   },
   "source": [
    "## 4 Performance\n",
    "\n",
    "_This section measures and compares the run-times of your implementations,\n",
    "so that you can check them against your earlier complexity analysis._"
   ]
  },
  {
   "attachments": {},
   "cell_type": "markdown",
   "metadata": {},
   "source": [
    "### 4.1 Generating inputs\n",
    "\n",
    "_Briefly describe your strategy and reasoning for [generating the inputs](https://dsa-ou.github.io/algoesup/coding/#generating-inputs)._"
   ]
  },
  {
   "cell_type": "code",
   "execution_count": null,
   "metadata": {
    "cell_id": "f7cec1b9b4bc4fa689d9543431b4f33e",
    "deepnote_cell_type": "code",
    "deepnote_to_be_reexecuted": false,
    "execution_millis": 23,
    "execution_start": 1699529654679,
    "source_hash": null
   },
   "outputs": [],
   "source": [
    "def best_case(size: int) -> tuple[...]:\n",
    "    # Implement your best-case input generator here.\n",
    "    pass"
   ]
  },
  {
   "cell_type": "code",
   "execution_count": null,
   "metadata": {},
   "outputs": [],
   "source": [
    "def worst_case(size: int) -> tuple[...]:\n",
    "    # Implement your worst-case input generator here.\n",
    "    pass"
   ]
  },
  {
   "cell_type": "code",
   "execution_count": null,
   "metadata": {},
   "outputs": [],
   "source": [
    "def normal_case(size: int) -> tuple[...]:\n",
    "    # Implement your normal-case input generator here.\n",
    "    pass"
   ]
  },
  {
   "attachments": {},
   "cell_type": "markdown",
   "metadata": {
    "cell_id": "d462054b87b048ce88e1358698f82f79",
    "deepnote_cell_type": "markdown"
   },
   "source": [
    "### 4.2 Best, normal and worst run-times\n",
    "\n",
    "_State which solutions(s) will be timed with best-, normal- or worst-case inputs.\n",
    "See the [comparing cases](https://dsa-ou.github.io/algoesup/coding/#comparing-cases) \n",
    "and [charting run-times](https://dsa-ou.github.io/algoesup/coding/#charting-run-times) \n",
    "sections of our guide._"
   ]
  },
  {
   "cell_type": "code",
   "execution_count": null,
   "metadata": {
    "cell_id": "67da094aa17147929edfcdd47cce2278",
    "deepnote_cell_type": "code",
    "deepnote_to_be_reexecuted": false,
    "execution_millis": 322,
    "execution_start": 1699531697001,
    "source_hash": null
   },
   "outputs": [],
   "source": [
    "cases = [best_case, normal_case, worst_case]\n",
    "# Change solution_n to the name of your solution.\n",
    "time_cases(solution_n, cases, start=10, steps=4)"
   ]
  },
  {
   "attachments": {},
   "cell_type": "markdown",
   "metadata": {
    "cell_id": "b9894d7114b0477eae502e685edcfc03",
    "deepnote_cell_type": "markdown"
   },
   "source": [
    "_Analyse the results. See the\n",
    "[interpreting run-times](https://dsa-ou.github.io/algoesup/coding/#interpreting-run-times)\n",
    "section of our guide._"
   ]
  },
  {
   "attachments": {},
   "cell_type": "markdown",
   "metadata": {},
   "source": [
    "### 4.3 Fastest and slowest algorithm\n",
    "_Compare the run times of all your solutions for the same case.\n",
    "See the [comparing functions](https://dsa-ou.github.io/algoesup/coding/#comparing-functions)\n",
    "and [charting run-times](https://dsa-ou.github.io/algoesup/coding/#charting-run-times)\n",
    "sections of our guide._"
   ]
  },
  {
   "cell_type": "code",
   "execution_count": null,
   "metadata": {
    "cell_id": "d952ffa1b3ac4fcebd116e81bbd5c086",
    "deepnote_cell_type": "code",
    "deepnote_to_be_reexecuted": false,
    "execution_millis": 32112,
    "execution_start": 1699533409629,
    "source_hash": null
   },
   "outputs": [],
   "source": [
    "# Change solution_one, solution_two, and solution_n to the names of your solutions.\n",
    "algorithms = [solution_one, solution_two, solution_n]\n",
    "# Replace normal_case with best_case or worst_case, if you wish.\n",
    "time_functions(algorithms, normal_case, start=1000, steps=4, chart=True)"
   ]
  },
  {
   "cell_type": "markdown",
   "metadata": {},
   "source": [
    "_Analyse the results. See the \n",
    "[interpreting run-times](https://dsa-ou.github.io/algoesup/coding/#interpreting-run-times) \n",
    "section of our guide._"
   ]
  },
  {
   "attachments": {},
   "cell_type": "markdown",
   "metadata": {
    "cell_id": "1ca2354465894abe8c309bae32b51ddd",
    "deepnote_cell_type": "markdown"
   },
   "source": [
    "## 5 Concluding remarks\n",
    "\n",
    "_Summarise your findings and conclude which solution is best._\n",
    "\n",
    "_After completing a draft of your essay, do a\n",
    "[final check](https://dsa-ou.github.io/algoesup/writing/#final-check) and then\n",
    "see the [feedback guide](https://dsa-ou.github.io/algoesup/feedback)\n",
    "on how to ask for, give, and handle comments._"
   ]
  },
  {
   "cell_type": "markdown",
   "metadata": {},
   "source": [
    "## 6 Acknowledgements\n",
    "\n",
    "_Credit those who helped you create the essay.\n",
    "See the [crediting feedback](https://dsa-ou.github.io/algoesup/feedback/#crediting-feedback)\n",
    "section of our guide._"
   ]
  }
 ],
 "metadata": {
  "author": "Michel Wermelinger",
  "deepnote": {},
  "deepnote_execution_queue": [],
  "deepnote_notebook_id": "21e54d45f4eb45dfa6760cf6f247e560",
  "deepnote_persisted_session": {
   "createdAt": "2023-11-09T13:18:09.716Z"
  },
  "jupytext": {
   "formats": "ipynb,src//md",
   "notebook_metadata_filter": "author",
   "text_representation": {
    "extension": ".md",
    "format_name": "markdown",
    "format_version": "1.2",
    "jupytext_version": "1.5.2"
   }
  },
  "kernelspec": {
   "display_name": "Python 3",
   "language": "python",
   "name": "python3"
  },
  "language_info": {
   "codemirror_mode": {
    "name": "ipython",
    "version": 3
   },
   "file_extension": ".py",
   "mimetype": "text/x-python",
   "name": "python",
   "nbconvert_exporter": "python",
   "pygments_lexer": "ipython3",
   "version": "3.10.11"
  }
 },
 "nbformat": 4,
 "nbformat_minor": 0
}
