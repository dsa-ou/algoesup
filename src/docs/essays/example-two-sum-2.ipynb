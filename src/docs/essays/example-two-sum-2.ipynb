{
 "cells": [
  {
   "attachments": {},
   "cell_type": "markdown",
   "metadata": {},
   "source": [
    "# Two Sum (two solutions)\n",
    "\n",
    "*Michael Snowden*, 24 January 2024, last updated 16 March 2024"
   ]
  },
  {
   "attachments": {},
   "cell_type": "markdown",
   "metadata": {
    "cell_id": "3dab5b7cbe1443acb7ae1b3c9a849b96",
    "deepnote_cell_type": "markdown"
   },
   "source": [
    "This simple [algorithmic essay](https://dsa-ou.github.io/algoesup/) aims to solve the classic [Two Sum](https://leetcode.com/problems/two-sum/) problem from [LeetCode](https://leetcode.com/). \n",
    "\n",
    "Readers should have an intermediate understanding of [Python](https://docs.python.org/3/tutorial/index.html) to understand this\n",
    "essay."
   ]
  },
  {
   "attachments": {},
   "cell_type": "markdown",
   "metadata": {
    "cell_id": "669a241a038a4ea9acd6d114edf21192",
    "deepnote_cell_type": "markdown"
   },
   "source": [
    "## 1 Problem\n",
    "\n",
    "Given an array of integers `nums` and an integer `target`, return indices of\n",
    "the two numbers such that they add up to `target`.\n",
    "\n",
    " - $-109 \\leq$ `nums[i]` $\\leq 109$\n",
    " - $-109 \\leq$ `target` $\\leq 109$\n",
    " - Only one valid answer exists."
   ]
  },
  {
   "attachments": {},
   "cell_type": "markdown",
   "metadata": {
    "cell_id": "7770c0f5f8874b8cb75275c9de3a8424",
    "deepnote_cell_type": "markdown"
   },
   "source": [
    "## 2 Algorithms\n",
    "\n",
    "With our problem defined, the next step is to think of ways to solve it. This\n",
    "section presents two approaches to solving Two Sum: brute force, and mapping."
   ]
  },
  {
   "attachments": {},
   "cell_type": "markdown",
   "metadata": {
    "cell_id": "873b3fad44264c8f9d89f71953220701",
    "deepnote_cell_type": "markdown"
   },
   "source": [
    "### 2.1 Brute force\n",
    "\n",
    "Generally speaking, a brute force algorithm tries all possibilities, and\n",
    "selects a correct one. For this problem, the possibilities are all sums that\n",
    "can be obtained by pairing each number in `nums` with every other number, and\n",
    "the correct pair is selected when the sum matches `target`.\n",
    "\n",
    ">**Brute force algorithm**: An outer loop iterates through each number in\n",
    ">`nums`, then for each number, an inner loop iterates `nums` again. For each\n",
    ">pair of numbers, if their indices are different and their sum matches `target`,\n",
    ">return their indices."
   ]
  },
  {
   "attachments": {},
   "cell_type": "markdown",
   "metadata": {
    "cell_id": "602d836888cf43e1abc9e17837086972",
    "deepnote_cell_type": "markdown"
   },
   "source": [
    "### 2.2 Mapping\n",
    "\n",
    "In the **Brute force algorithm**, we checked each pair of numbers in `nums` to see\n",
    "if the resulting sum was equal to `target`. Since we are already checking every\n",
    "number in the list, why not store some piece information from each number that\n",
    "will help us find our matching pair?\n",
    "\n",
    "For every number in `nums`, we can map the difference between it and the target\n",
    "(`target` - number) to its corresponding index using a hashtable. This allows\n",
    "us to check the hashtable for matching numbers much faster.\n",
    "\n",
    ">**Mapping algorithm**: For each number in `nums`, if it's in the hashmap, return\n",
    ">its index and the index mapped to it. Otherwise, calculate the difference\n",
    ">(`target` - number) and map it to the corresponding index of number."
   ]
  },
  {
   "attachments": {},
   "cell_type": "markdown",
   "metadata": {
    "cell_id": "b874355374024f0aac10bf85290e3830",
    "deepnote_cell_type": "markdown"
   },
   "source": [
    "## 3 Code\n",
    "\n",
    "In this section we will implement and test the algorithms."
   ]
  },
  {
   "cell_type": "code",
   "execution_count": 1,
   "metadata": {},
   "outputs": [],
   "source": [
    "import os\n",
    "\n",
    "if 'COLAB_GPU' in os.environ:  # if we are in Google Colab...\n",
    "    !pip install algoesup --no-deps\n",
    "    !pip install allowed ruff"
   ]
  },
  {
   "cell_type": "code",
   "execution_count": 2,
   "metadata": {
    "cell_id": "aaadf1a848f74353838a9173da3520ab",
    "deepnote_cell_type": "code",
    "deepnote_to_be_reexecuted": false,
    "execution_millis": 572,
    "execution_start": 1700998213233,
    "source_hash": null
   },
   "outputs": [],
   "source": [
    "from algoesup import test, time_functions"
   ]
  },
  {
   "cell_type": "code",
   "execution_count": 3,
   "metadata": {},
   "outputs": [
    {
     "name": "stdout",
     "output_type": "stream",
     "text": [
      "ruff was activated\n",
      "allowed was activated\n"
     ]
    }
   ],
   "source": [
    "%load_ext algoesup.magics\n",
    "%ruff on\n",
    "%allowed on"
   ]
  },
  {
   "attachments": {},
   "cell_type": "markdown",
   "metadata": {
    "cell_id": "3d5d24a861574074ae34951e9a0ecef1",
    "deepnote_cell_type": "markdown"
   },
   "source": [
    "### 3.1 Testing\n",
    "\n",
    "We start off by writing some tests.\n",
    "\n",
    "To test the above solutions, we need to consider edge cases and other important\n",
    "functional tests. We should include tests for the minimum input size, and any\n",
    "extremes values that can be present. When integers are part of the input, and\n",
    "there are no restrictions, negative numbers and zero should be added to the\n",
    "tests."
   ]
  },
  {
   "cell_type": "code",
   "execution_count": 4,
   "metadata": {
    "cell_id": "ac8b19eaedc64b4580b0a0ee55a38d06",
    "deepnote_cell_type": "code",
    "deepnote_to_be_reexecuted": false,
    "execution_millis": 561,
    "execution_start": 1700998214777,
    "source_hash": null
   },
   "outputs": [],
   "source": [
    "two_sum_tests = [\n",
    "  # [\"description\", nums, target, expected_output],\n",
    "    [\"minimum size for nums\", [1, 2], 3, (0, 1)],\n",
    "    [\"non-adjacent indices\", [1, 4, 9, 7], 8, (0, 3)],\n",
    "    [\"first two elements\", [5, 7, 1, 2, 8], 12, (0, 1)],\n",
    "    [\"last two elements\", [1, 3, 5, 7, 8], 15, (3, 4)],\n",
    "    [\"repeated elements\", [6, 2, 3, 2], 4, (1, 3)],\n",
    "    [\"max and min range\", [-109, 109, 0], 0, (0, 1)],\n",
    "    [\"lowest target value\", [-50, 1, -59], -109, (0, 2)],\n",
    "    [\"highest target value\", [50, 1, 59], 109, (0, 2)],\n",
    "]"
   ]
  },
  {
   "attachments": {},
   "cell_type": "markdown",
   "metadata": {},
   "source": [
    "### 3.2 Implementations\n",
    "\n",
    "The next cell implements the **Brute force algorithm** using nested `for` loops"
   ]
  },
  {
   "cell_type": "code",
   "execution_count": 5,
   "metadata": {
    "cell_id": "44329d9330bd4375a0ac59857f7ab3a8",
    "deepnote_cell_type": "code",
    "deepnote_to_be_reexecuted": false,
    "execution_millis": 490,
    "execution_start": 1700998215236,
    "source_hash": null
   },
   "outputs": [
    {
     "name": "stdout",
     "output_type": "stream",
     "text": [
      "Testing two_sum_bf...\n",
      "Tests finished: 8 passed, 0 failed.\n"
     ]
    }
   ],
   "source": [
    "def two_sum_bf(nums, target):\n",
    "    \"\"\"Given a list of integers return the indices of the pair that sums to target.\"\"\"\n",
    "    for index_1 in range(len(nums)):\n",
    "        for index_2 in range(len(nums)):\n",
    "            if index_1 != index_2 and nums[index_1] + nums[index_2] == target:\n",
    "                return index_1, index_2\n",
    "\n",
    "test(two_sum_bf, two_sum_tests)"
   ]
  },
  {
   "attachments": {},
   "cell_type": "markdown",
   "metadata": {},
   "source": [
    "Next up is the **Mapping algorithm** implemented using Python's `dict`."
   ]
  },
  {
   "cell_type": "code",
   "execution_count": 6,
   "metadata": {
    "cell_id": "f1acd50e3be54a0e948c7795637ee2a0",
    "deepnote_cell_type": "code",
    "deepnote_to_be_reexecuted": false,
    "execution_millis": 443,
    "execution_start": 1700998216141,
    "source_hash": null
   },
   "outputs": [
    {
     "name": "stdout",
     "output_type": "stream",
     "text": [
      "Testing two_sum_map...\n",
      "Tests finished: 8 passed, 0 failed.\n"
     ]
    }
   ],
   "source": [
    "def two_sum_map(nums, target):\n",
    "    \"\"\"Given a list of integers return the indices of the pair that sums to target.\"\"\"\n",
    "    differences = {}\n",
    "    for index in range(len(nums)):\n",
    "        difference = target - nums[index]\n",
    "        if nums[index] in differences:\n",
    "            return differences[nums[index]], index\n",
    "        differences[difference] = index\n",
    "\n",
    "test(two_sum_map, two_sum_tests)"
   ]
  },
  {
   "attachments": {},
   "cell_type": "markdown",
   "metadata": {
    "cell_id": "11e07df56c7543d8951171e634bbfa14",
    "deepnote_cell_type": "markdown"
   },
   "source": [
    "## 4 Performance\n",
    "\n",
    "In this section we measure the run-times of our solutions under certain \n",
    "conditions and discuss the results.\n"
   ]
  },
  {
   "attachments": {},
   "cell_type": "markdown",
   "metadata": {},
   "source": [
    "### 4.1 Generating inputs\n",
    "\n",
    "Since `time_functions` from the `algoesup` library requires code to generate\n",
    "inputs, we shall write that first.\n",
    "\n",
    "It is often useful to measure the run-times of a solution when it is doing the\n",
    "*most* work; this is called the worst-case. We want to generate inputs\n",
    "that will take our solution the most time to complete, and this happens when\n",
    "the two numbers that sum to `target` are the last two."
   ]
  },
  {
   "cell_type": "code",
   "execution_count": 7,
   "metadata": {
    "cell_id": "01f9421892f340f8b3ade6e25e315a09",
    "deepnote_cell_type": "code",
    "deepnote_to_be_reexecuted": false,
    "execution_millis": 471,
    "execution_start": 1700998216591,
    "source_hash": null
   },
   "outputs": [],
   "source": [
    "def worst(size):\n",
    "    \"\"\"Given a size, generate a worst-case problem instance for two sum.\"\"\"\n",
    "    nums = [0] * (size - 2) + [1, 1]\n",
    "    target = 2\n",
    "    return (nums, target)"
   ]
  },
  {
   "attachments": {},
   "cell_type": "markdown",
   "metadata": {},
   "source": [
    "### 4.2 Run-times for each solution\n",
    "\n",
    "We now compare worst-case runtimes for both solutions. The input has an initial\n",
    "size of 100, and is doubled 4 times; the run times are measured for the initial\n",
    "size, then each time it is doubled."
   ]
  },
  {
   "cell_type": "code",
   "execution_count": 8,
   "metadata": {
    "cell_id": "aba31a656d9f45c385f81e314f656e34",
    "deepnote_cell_type": "code",
    "deepnote_to_be_reexecuted": false,
    "execution_millis": 17260,
    "execution_start": 1700998217027,
    "source_hash": null
   },
   "outputs": [
    {
     "name": "stdout",
     "output_type": "stream",
     "text": [
      "Inputs generated by worst\n",
      "\n",
      "Input size      two_sum_bf     two_sum_map \n",
      "       100           454.4             5.7 µs\n",
      "       200          1906.9            11.1 µs\n",
      "       400          7516.0            22.5 µs\n",
      "       800         30797.2            45.9 µs\n",
      "      1600        125003.9            93.3 µs"
     ]
    },
    {
     "data": {
      "image/png": "[encoded data removed]",
      "text/plain": [
       "<Figure size 640x480 with 1 Axes>"
      ]
     },
     "metadata": {},
     "output_type": "display_data"
    }
   ],
   "source": [
    "solutions = [two_sum_bf, two_sum_map]\n",
    "time_functions(solutions, worst, start=100, double=4, chart=True)"
   ]
  },
  {
   "attachments": {},
   "cell_type": "markdown",
   "metadata": {},
   "source": [
    "The numbers printed before the chart represent the run-times of our solutions\n",
    "in microseconds (µs) for increasing input sizes.\n",
    "\n",
    "On the chart, the data points for `two_sum_bf` almost instantly eclipse that of\n",
    "`two_sum_map`. It looks as if the run-times for `two_sum_map` are not growing\n",
    "at all, but we know by looking at numbers above that this is not the case. \n",
    "\n",
    "Let us see if we can modify the inputs of `time_functions` for a better visual\n",
    "representation."
   ]
  },
  {
   "cell_type": "code",
   "execution_count": 9,
   "metadata": {},
   "outputs": [
    {
     "data": {
      "image/png": "[encoded data removed]",
      "text/plain": [
       "<Figure size 640x480 with 1 Axes>"
      ]
     },
     "metadata": {},
     "output_type": "display_data"
    }
   ],
   "source": [
    "solutions = [two_sum_bf, two_sum_map]\n",
    "time_functions(solutions, worst, start=1, double=4, text=False, chart=True)"
   ]
  },
  {
   "attachments": {},
   "cell_type": "markdown",
   "metadata": {},
   "source": [
    "We changed the initial input size to 1, and the trend of the run-times is a little\n",
    "clearer now. The **Brute force algorithm's** run-time's still accelerate off\n",
    "into the stratosphere, but we can see the separation and trend of the **Mapping\n",
    "algorithm** a little better."
   ]
  },
  {
   "attachments": {},
   "cell_type": "markdown",
   "metadata": {},
   "source": [
    "## 5 Conclusion\n",
    "\n",
    "We started this essay with the definition of the Two Sum problem. Next, we\n",
    "outlined two algorithms: brute force, and mapping . After that, we implemented\n",
    "and tested our solutions using Python, and in the penultimate section we used\n",
    "empirical testing and discussed the results. Now we must decide which of our\n",
    "algorithms is best.\n",
    "\n",
    "The **Brute force algorithm** is not very efficient when it comes to run-times.\n",
    "When the size of the input increases the run-times increase by a large\n",
    "amount. The one redeeming aspect of this algorithm is the efficient memory usage\n",
    "which is achieved by *not* using any additional data structures like\n",
    "dictionaries.\n",
    "\n",
    "In contrast, the **Mapping algorithm** is reasonably efficient in terms of run\n",
    "times, but this is achieved by using extra memory in the form of the\n",
    "dictionary. In the final analysis, the slow run-times of the brute force\n",
    "algorithm cannot be ignored. The small trade of memory for faster run-times is\n",
    "worth it in this instance. We therefore conclude the mapping algorithm is best."
   ]
  }
 ],
 "metadata": {
  "deepnote": {},
  "deepnote_execution_queue": [],
  "deepnote_notebook_id": "4a6de191ec8443f9b9cd2c322d8dd60d",
  "kernelspec": {
   "display_name": "Python 3 (ipykernel)",
   "language": "python",
   "name": "python3"
  },
  "language_info": {
   "codemirror_mode": {
    "name": "ipython",
    "version": 3
   },
   "file_extension": ".py",
   "mimetype": "text/x-python",
   "name": "python",
   "nbconvert_exporter": "python",
   "pygments_lexer": "ipython3",
   "version": "3.10.11"
  },
  "orig_nbformat": 2
 },
 "nbformat": 4,
 "nbformat_minor": 0
}
