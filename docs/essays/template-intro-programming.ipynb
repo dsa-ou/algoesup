{
 "cells": [
  {
   "attachments": {},
   "cell_type": "markdown",
   "metadata": {
    "cell_id": "7d5cdec1dd5543618a0bb661ad996a41",
    "deepnote_cell_type": "markdown"
   },
   "source": [
    "This [algorithmic essay](https://dsa-ou.github.io/algoesup) template is for students of introductory programming courses. \n",
    "For more details on how to use this template, see our [Writing Guide](https://dsa-ou.github.io/algoesup/writing).\n",
    "Replace any text in italics by yours and delete this paragraph.\n",
    "\n",
    "# _Your essay's title_ \n",
    "\n",
    "_Your (and any co-author's) name_, _current date_"
   ]
  },
  {
   "attachments": {},
   "cell_type": "markdown",
   "metadata": {},
   "source": [
    "_The introduction explains what the essay is about, the problem you are solving, and what you assume the reader to know._"
   ]
  },
  {
   "cell_type": "code",
   "execution_count": null,
   "metadata": {},
   "outputs": [],
   "source": [
    "# import functions to test the code and to measure the execution time\n",
    "from algoesup import test, time_functions_int\n",
    "\n",
    "# check the code's style\n",
    "%ruff on\n",
    "# optional: flag the Python constructs not taught in TM112, our introductory course\n",
    "%allowed on -c tm112.json"
   ]
  },
  {
   "attachments": {},
   "cell_type": "markdown",
   "metadata": {
    "cell_id": "7b98ae4e4fa5493aa7cf662ca5d93db7",
    "deepnote_cell_type": "markdown"
   },
   "source": [
    "## 1 Tests\n",
    "\n",
    "_This section describes and defines the tests you will use to check your solutions._ "
   ]
  },
  {
   "cell_type": "code",
   "execution_count": null,
   "metadata": {
    "cell_id": "3e5eddbf36b8420492a19172cc41b06d",
    "deepnote_cell_type": "code",
    "deepnote_to_be_reexecuted": false,
    "execution_millis": 40,
    "execution_start": 1699529654623,
    "source_hash": null
   },
   "outputs": [],
   "source": [
    "tests = [\n",
    "    # Each line is a list or tuple of the form:\n",
    "    # (description, input1, input2, ..., expected_output),\n",
    "]"
   ]
  },
  {
   "attachments": {},
   "cell_type": "markdown",
   "metadata": {
    "cell_id": "bc67a75cb25b429a865f43062259402b",
    "deepnote_cell_type": "markdown"
   },
   "source": [
    "## 2 Solutions"
   ]
  },
  {
   "attachments": {},
   "cell_type": "markdown",
   "metadata": {},
   "source": [
    "### 2.1 _First solution name_\n",
    "\n",
    "_Describe your first strategy or approach, then implement and test it._"
   ]
  },
  {
   "cell_type": "code",
   "execution_count": null,
   "metadata": {},
   "outputs": [],
   "source": [
    "def solution_one():\n",
    "    # Implement your solution here\n",
    "    pass\n",
    "\n",
    "test(solution_one, tests)"
   ]
  },
  {
   "attachments": {},
   "cell_type": "markdown",
   "metadata": {},
   "source": [
    "### 2.2 _Second solution name_\n",
    "\n",
    "_Describe your second strategy or approach, then implement and test it._"
   ]
  },
  {
   "cell_type": "code",
   "execution_count": null,
   "metadata": {},
   "outputs": [],
   "source": [
    "def solution_two():\n",
    "    # Implement your solution here\n",
    "    pass\n",
    "\n",
    "test(solution_two, tests)"
   ]
  },
  {
   "attachments": {},
   "cell_type": "markdown",
   "metadata": {
    "cell_id": "78fb397c0b6240afa073d571ee2abd7d",
    "deepnote_cell_type": "markdown"
   },
   "source": [
    "## 3 Performance\n",
    "\n",
    "_This optional section compares the performance of your solutions to see which is fastest._"
   ]
  },
  {
   "cell_type": "code",
   "execution_count": null,
   "metadata": {
    "cell_id": "67da094aa17147929edfcdd47cce2278",
    "deepnote_cell_type": "code",
    "deepnote_to_be_reexecuted": false,
    "execution_millis": 322,
    "execution_start": 1699531697001,
    "source_hash": null
   },
   "outputs": [],
   "source": [
    "# The next line assumes your functions have a single integer as input.\n",
    "time_functions_int([solution_one, solution_two])"
   ]
  },
  {
   "cell_type": "markdown",
   "metadata": {},
   "source": [
    "_Analyse the results._"
   ]
  },
  {
   "cell_type": "markdown",
   "metadata": {},
   "source": [
    "## 4 Concluding remarks\n",
    "\n",
    "_Summarise your findings and conclude which solution is best._\n",
    "\n",
    "_After completing a draft of your essay, read our [Feedback Guide](https://dsa-ou.github.io/algoesup/feedback) on how to ask for, give, and handle comments._"
   ]
  },
  {
   "cell_type": "markdown",
   "metadata": {},
   "source": [
    "## 5 Acknowledgements\n",
    "\n",
    "_Credit those who helped you create the essay._"
   ]
  }
 ],
 "metadata": {
  "author": "Michel Wermelinger",
  "deepnote": {},
  "deepnote_execution_queue": [],
  "deepnote_notebook_id": "21e54d45f4eb45dfa6760cf6f247e560",
  "deepnote_persisted_session": {
   "createdAt": "2023-11-09T13:18:09.716Z"
  },
  "jupytext": {
   "formats": "ipynb,src//md",
   "notebook_metadata_filter": "author",
   "text_representation": {
    "extension": ".md",
    "format_name": "markdown",
    "format_version": "1.2",
    "jupytext_version": "1.5.2"
   }
  },
  "kernelspec": {
   "display_name": "Python 3",
   "language": "python",
   "name": "python3"
  },
  "language_info": {
   "codemirror_mode": {
    "name": "ipython",
    "version": 3
   },
   "file_extension": ".py",
   "mimetype": "text/x-python",
   "name": "python",
   "nbconvert_exporter": "python",
   "pygments_lexer": "ipython3",
   "version": "3.10.12"
  }
 },
 "nbformat": 4,
 "nbformat_minor": 0
}
